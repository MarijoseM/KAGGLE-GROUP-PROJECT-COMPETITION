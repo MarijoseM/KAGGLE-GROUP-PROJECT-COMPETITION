{
 "cells": [
  {
   "cell_type": "markdown",
   "id": "063ef504",
   "metadata": {},
   "source": [
    "# STATISTICS & ML PROJECT - CREDIT DEFAULT PREDICTION"
   ]
  },
  {
   "cell_type": "markdown",
   "id": "43c37db7",
   "metadata": {},
   "source": [
    "## GROUP 10 TEAM MEMBERS - \n",
    "### Marijose Marcos I.  |   Kamalakannan Thayanidhi | Swasthik Vellingirikowsalya"
   ]
  },
  {
   "cell_type": "code",
   "execution_count": 1,
   "id": "4cb82aa0",
   "metadata": {},
   "outputs": [],
   "source": [
    "# Importing all the Necessary Package \n",
    "# Data exploration\n",
    "import matplotlib.pyplot as plt\n",
    "from dateutil.relativedelta import relativedelta\n",
    "\n",
    "# Data processing\n",
    "import pickle\n",
    "import numpy as np\n",
    "import pandas as pd\n",
    "import os\n",
    "import datetime\n",
    "from sklearn.impute import SimpleImputer\n",
    "from sklearn.preprocessing import OrdinalEncoder, OneHotEncoder, KBinsDiscretizer\n",
    "from sklearn.preprocessing import PolynomialFeatures\n",
    "from sklearn.preprocessing import MinMaxScaler\n",
    "from sklearn.feature_selection import mutual_info_classif, VarianceThreshold\n",
    "from sklearn.feature_selection import SelectFromModel\n",
    "from sklearn.decomposition import PCA\n",
    "\n",
    "# Modeling\n",
    "from sklearn.linear_model import LogisticRegression\n",
    "from sklearn.discriminant_analysis import LinearDiscriminantAnalysis\n",
    "from sklearn.tree import DecisionTreeClassifier\n",
    "from sklearn.ensemble import RandomForestClassifier\n",
    "from sklearn.ensemble import GradientBoostingClassifier, AdaBoostClassifier\n",
    "from sklearn.svm import LinearSVC,SVC\n",
    "from sklearn.neural_network import MLPClassifier\n",
    "from sklearn.neighbors import KNeighborsClassifier\n",
    "from sklearn.naive_bayes import GaussianNB\n",
    "from sklearn.linear_model import Perceptron\n",
    "from sklearn.linear_model import SGDClassifier\n",
    "#from lightgbm import LGBMClassifier\n",
    "\n",
    "# Experimental setup\n",
    "from sklearn.model_selection import KFold, StratifiedKFold, cross_validate, GridSearchCV, train_test_split\n",
    "#from imblearn.over_sampling import SMOTE, RandomOverSampler\n",
    "#from imblearn.pipeline import Pipeline\n",
    "from sklearn.metrics import roc_auc_score\n",
    "from sklearn.model_selection import learning_curve\n",
    "from sklearn.metrics import accuracy_score\n",
    "from sklearn.preprocessing import LabelEncoder\n",
    "from sklearn.metrics import confusion_matrix\n",
    "from sklearn.metrics import roc_auc_score\n",
    "from scipy.stats          import pearsonr"
   ]
  },
  {
   "cell_type": "code",
   "execution_count": 2,
   "id": "a6c6a6c6",
   "metadata": {},
   "outputs": [],
   "source": [
    "###################################################################\n",
    "# MODIFY THESE FLAGS TO TURN ON/OFF THE DATA PROCESSING FUNCTIONS #\n",
    "###################################################################\n",
    "\n",
    "# Flag variables to run the data processing steps\n",
    "# Feature engineering step\n",
    "enable_num_poly = True  # Add polynomial terms\n",
    "# Value transformation step\n",
    "enable_trans_cat_dt = True  # Remapping cat variables - Decision tree–based remapping\n",
    "enable_trans_num_dt = True  # Discretizing num variables - Decision tree–based discretization\n",
    "enable_trans_num_ef = True  # Discretizing num variables - Equal frequency discretization\n",
    "enable_trans_num_ew = True  # Discretizing num variables - Equal width discretization\n",
    "# Value representation step\n",
    "enable_repr_dummy = True  # Represent cat variables - Dummy coding\n",
    "enable_repr_icd = True  # Represent cat variables - Incidence (of target variable) replacement\n",
    "enable_repr_woe = True  # Represent cat variables - Weight-of-Evidence (WoE) conversion\n",
    "drop_cat_vars = True  # Drop cat variables after value representation step\n",
    "# Other data processing\n",
    "enable_normalize = True  # Normalize the data to the same range [0, 1]"
   ]
  },
  {
   "cell_type": "markdown",
   "id": "7e4722b2",
   "metadata": {},
   "source": [
    "### Importing Data "
   ]
  },
  {
   "cell_type": "code",
   "execution_count": 3,
   "id": "70247bf1",
   "metadata": {},
   "outputs": [],
   "source": [
    "# Read train, test\n",
    "train = pd.read_csv('credit_default_train.csv', low_memory=False)\n",
    "test = pd.read_csv('credit_default_test.csv', low_memory=False)"
   ]
  },
  {
   "cell_type": "code",
   "execution_count": 4,
   "id": "767e2d23",
   "metadata": {},
   "outputs": [
    {
     "name": "stdout",
     "output_type": "stream",
     "text": [
      "float64    23\n",
      "int64       2\n",
      "dtype: int64\n"
     ]
    },
    {
     "data": {
      "text/html": [
       "<div>\n",
       "<style scoped>\n",
       "    .dataframe tbody tr th:only-of-type {\n",
       "        vertical-align: middle;\n",
       "    }\n",
       "\n",
       "    .dataframe tbody tr th {\n",
       "        vertical-align: top;\n",
       "    }\n",
       "\n",
       "    .dataframe thead th {\n",
       "        text-align: right;\n",
       "    }\n",
       "</style>\n",
       "<table border=\"1\" class=\"dataframe\">\n",
       "  <thead>\n",
       "    <tr style=\"text-align: right;\">\n",
       "      <th></th>\n",
       "      <th>cust_id</th>\n",
       "      <th>LIMIT_BAL</th>\n",
       "      <th>SEX</th>\n",
       "      <th>EDUCATION</th>\n",
       "      <th>MARRIAGE</th>\n",
       "      <th>AGE</th>\n",
       "      <th>PAY_0</th>\n",
       "      <th>PAY_2</th>\n",
       "      <th>PAY_3</th>\n",
       "      <th>PAY_4</th>\n",
       "      <th>...</th>\n",
       "      <th>BILL_AMT4</th>\n",
       "      <th>BILL_AMT5</th>\n",
       "      <th>BILL_AMT6</th>\n",
       "      <th>PAY_AMT1</th>\n",
       "      <th>PAY_AMT2</th>\n",
       "      <th>PAY_AMT3</th>\n",
       "      <th>PAY_AMT4</th>\n",
       "      <th>PAY_AMT5</th>\n",
       "      <th>PAY_AMT6</th>\n",
       "      <th>default.payment.next.month</th>\n",
       "    </tr>\n",
       "  </thead>\n",
       "  <tbody>\n",
       "    <tr>\n",
       "      <th>0</th>\n",
       "      <td>18895</td>\n",
       "      <td>70000.0</td>\n",
       "      <td>1.0</td>\n",
       "      <td>3.0</td>\n",
       "      <td>2.0</td>\n",
       "      <td>34.0</td>\n",
       "      <td>0.0</td>\n",
       "      <td>0.0</td>\n",
       "      <td>0.0</td>\n",
       "      <td>0.0</td>\n",
       "      <td>...</td>\n",
       "      <td>25559.0</td>\n",
       "      <td>26134.0</td>\n",
       "      <td>26715.0</td>\n",
       "      <td>1700.0</td>\n",
       "      <td>1500.0</td>\n",
       "      <td>2000.0</td>\n",
       "      <td>1000.0</td>\n",
       "      <td>1000.0</td>\n",
       "      <td>2000.0</td>\n",
       "      <td>0</td>\n",
       "    </tr>\n",
       "    <tr>\n",
       "      <th>1</th>\n",
       "      <td>25102</td>\n",
       "      <td>390000.0</td>\n",
       "      <td>2.0</td>\n",
       "      <td>2.0</td>\n",
       "      <td>2.0</td>\n",
       "      <td>26.0</td>\n",
       "      <td>2.0</td>\n",
       "      <td>2.0</td>\n",
       "      <td>2.0</td>\n",
       "      <td>0.0</td>\n",
       "      <td>...</td>\n",
       "      <td>140387.0</td>\n",
       "      <td>128112.0</td>\n",
       "      <td>115514.0</td>\n",
       "      <td>5000.0</td>\n",
       "      <td>3000.0</td>\n",
       "      <td>5000.0</td>\n",
       "      <td>4548.0</td>\n",
       "      <td>4100.0</td>\n",
       "      <td>3300.0</td>\n",
       "      <td>0</td>\n",
       "    </tr>\n",
       "    <tr>\n",
       "      <th>2</th>\n",
       "      <td>28867</td>\n",
       "      <td>60000.0</td>\n",
       "      <td>1.0</td>\n",
       "      <td>1.0</td>\n",
       "      <td>2.0</td>\n",
       "      <td>27.0</td>\n",
       "      <td>0.0</td>\n",
       "      <td>0.0</td>\n",
       "      <td>0.0</td>\n",
       "      <td>0.0</td>\n",
       "      <td>...</td>\n",
       "      <td>26038.0</td>\n",
       "      <td>28607.0</td>\n",
       "      <td>27997.0</td>\n",
       "      <td>1378.0</td>\n",
       "      <td>1406.0</td>\n",
       "      <td>3000.0</td>\n",
       "      <td>3000.0</td>\n",
       "      <td>0.0</td>\n",
       "      <td>923.0</td>\n",
       "      <td>1</td>\n",
       "    </tr>\n",
       "    <tr>\n",
       "      <th>3</th>\n",
       "      <td>1842</td>\n",
       "      <td>140000.0</td>\n",
       "      <td>2.0</td>\n",
       "      <td>2.0</td>\n",
       "      <td>1.0</td>\n",
       "      <td>55.0</td>\n",
       "      <td>0.0</td>\n",
       "      <td>0.0</td>\n",
       "      <td>0.0</td>\n",
       "      <td>0.0</td>\n",
       "      <td>...</td>\n",
       "      <td>72391.0</td>\n",
       "      <td>61298.0</td>\n",
       "      <td>62193.0</td>\n",
       "      <td>4200.0</td>\n",
       "      <td>2822.0</td>\n",
       "      <td>2336.0</td>\n",
       "      <td>2588.0</td>\n",
       "      <td>2250.0</td>\n",
       "      <td>2491.0</td>\n",
       "      <td>0</td>\n",
       "    </tr>\n",
       "    <tr>\n",
       "      <th>4</th>\n",
       "      <td>3371</td>\n",
       "      <td>50000.0</td>\n",
       "      <td>1.0</td>\n",
       "      <td>1.0</td>\n",
       "      <td>2.0</td>\n",
       "      <td>29.0</td>\n",
       "      <td>2.0</td>\n",
       "      <td>2.0</td>\n",
       "      <td>2.0</td>\n",
       "      <td>0.0</td>\n",
       "      <td>...</td>\n",
       "      <td>1047.0</td>\n",
       "      <td>0.0</td>\n",
       "      <td>0.0</td>\n",
       "      <td>3000.0</td>\n",
       "      <td>0.0</td>\n",
       "      <td>1000.0</td>\n",
       "      <td>0.0</td>\n",
       "      <td>0.0</td>\n",
       "      <td>0.0</td>\n",
       "      <td>1</td>\n",
       "    </tr>\n",
       "  </tbody>\n",
       "</table>\n",
       "<p>5 rows × 25 columns</p>\n",
       "</div>"
      ],
      "text/plain": [
       "   cust_id  LIMIT_BAL  SEX  EDUCATION  MARRIAGE   AGE  PAY_0  PAY_2  PAY_3  \\\n",
       "0    18895    70000.0  1.0        3.0       2.0  34.0    0.0    0.0    0.0   \n",
       "1    25102   390000.0  2.0        2.0       2.0  26.0    2.0    2.0    2.0   \n",
       "2    28867    60000.0  1.0        1.0       2.0  27.0    0.0    0.0    0.0   \n",
       "3     1842   140000.0  2.0        2.0       1.0  55.0    0.0    0.0    0.0   \n",
       "4     3371    50000.0  1.0        1.0       2.0  29.0    2.0    2.0    2.0   \n",
       "\n",
       "   PAY_4  ...  BILL_AMT4  BILL_AMT5  BILL_AMT6  PAY_AMT1  PAY_AMT2  PAY_AMT3  \\\n",
       "0    0.0  ...    25559.0    26134.0    26715.0    1700.0    1500.0    2000.0   \n",
       "1    0.0  ...   140387.0   128112.0   115514.0    5000.0    3000.0    5000.0   \n",
       "2    0.0  ...    26038.0    28607.0    27997.0    1378.0    1406.0    3000.0   \n",
       "3    0.0  ...    72391.0    61298.0    62193.0    4200.0    2822.0    2336.0   \n",
       "4    0.0  ...     1047.0        0.0        0.0    3000.0       0.0    1000.0   \n",
       "\n",
       "   PAY_AMT4  PAY_AMT5  PAY_AMT6  default.payment.next.month  \n",
       "0    1000.0    1000.0    2000.0                           0  \n",
       "1    4548.0    4100.0    3300.0                           0  \n",
       "2    3000.0       0.0     923.0                           1  \n",
       "3    2588.0    2250.0    2491.0                           0  \n",
       "4       0.0       0.0       0.0                           1  \n",
       "\n",
       "[5 rows x 25 columns]"
      ]
     },
     "execution_count": 4,
     "metadata": {},
     "output_type": "execute_result"
    }
   ],
   "source": [
    "# Print out to check the data\n",
    "print(train.dtypes.value_counts())\n",
    "train.head()"
   ]
  },
  {
   "cell_type": "code",
   "execution_count": 5,
   "id": "e0351d02",
   "metadata": {},
   "outputs": [
    {
     "data": {
      "text/html": [
       "<div>\n",
       "<style scoped>\n",
       "    .dataframe tbody tr th:only-of-type {\n",
       "        vertical-align: middle;\n",
       "    }\n",
       "\n",
       "    .dataframe tbody tr th {\n",
       "        vertical-align: top;\n",
       "    }\n",
       "\n",
       "    .dataframe thead th {\n",
       "        text-align: right;\n",
       "    }\n",
       "</style>\n",
       "<table border=\"1\" class=\"dataframe\">\n",
       "  <thead>\n",
       "    <tr style=\"text-align: right;\">\n",
       "      <th></th>\n",
       "      <th>cust_id</th>\n",
       "      <th>LIMIT_BAL</th>\n",
       "      <th>SEX</th>\n",
       "      <th>EDUCATION</th>\n",
       "      <th>MARRIAGE</th>\n",
       "      <th>AGE</th>\n",
       "      <th>PAY_0</th>\n",
       "      <th>PAY_2</th>\n",
       "      <th>PAY_3</th>\n",
       "      <th>PAY_4</th>\n",
       "      <th>...</th>\n",
       "      <th>BILL_AMT4</th>\n",
       "      <th>BILL_AMT5</th>\n",
       "      <th>BILL_AMT6</th>\n",
       "      <th>PAY_AMT1</th>\n",
       "      <th>PAY_AMT2</th>\n",
       "      <th>PAY_AMT3</th>\n",
       "      <th>PAY_AMT4</th>\n",
       "      <th>PAY_AMT5</th>\n",
       "      <th>PAY_AMT6</th>\n",
       "      <th>default.payment.next.month</th>\n",
       "    </tr>\n",
       "  </thead>\n",
       "  <tbody>\n",
       "    <tr>\n",
       "      <th>2</th>\n",
       "      <td>28867</td>\n",
       "      <td>60000.0</td>\n",
       "      <td>1.0</td>\n",
       "      <td>1.0</td>\n",
       "      <td>2.0</td>\n",
       "      <td>27.0</td>\n",
       "      <td>0.0</td>\n",
       "      <td>0.0</td>\n",
       "      <td>0.0</td>\n",
       "      <td>0.0</td>\n",
       "      <td>...</td>\n",
       "      <td>26038.0</td>\n",
       "      <td>28607.0</td>\n",
       "      <td>27997.0</td>\n",
       "      <td>1378.0</td>\n",
       "      <td>1406.0</td>\n",
       "      <td>3000.0</td>\n",
       "      <td>3000.0</td>\n",
       "      <td>0.0</td>\n",
       "      <td>923.0</td>\n",
       "      <td>1</td>\n",
       "    </tr>\n",
       "    <tr>\n",
       "      <th>4</th>\n",
       "      <td>3371</td>\n",
       "      <td>50000.0</td>\n",
       "      <td>1.0</td>\n",
       "      <td>1.0</td>\n",
       "      <td>2.0</td>\n",
       "      <td>29.0</td>\n",
       "      <td>2.0</td>\n",
       "      <td>2.0</td>\n",
       "      <td>2.0</td>\n",
       "      <td>0.0</td>\n",
       "      <td>...</td>\n",
       "      <td>1047.0</td>\n",
       "      <td>0.0</td>\n",
       "      <td>0.0</td>\n",
       "      <td>3000.0</td>\n",
       "      <td>0.0</td>\n",
       "      <td>1000.0</td>\n",
       "      <td>0.0</td>\n",
       "      <td>0.0</td>\n",
       "      <td>0.0</td>\n",
       "      <td>1</td>\n",
       "    </tr>\n",
       "    <tr>\n",
       "      <th>8</th>\n",
       "      <td>4761</td>\n",
       "      <td>320000.0</td>\n",
       "      <td>2.0</td>\n",
       "      <td>2.0</td>\n",
       "      <td>2.0</td>\n",
       "      <td>36.0</td>\n",
       "      <td>-2.0</td>\n",
       "      <td>-2.0</td>\n",
       "      <td>-2.0</td>\n",
       "      <td>-2.0</td>\n",
       "      <td>...</td>\n",
       "      <td>15813.0</td>\n",
       "      <td>0.0</td>\n",
       "      <td>0.0</td>\n",
       "      <td>5000.0</td>\n",
       "      <td>4905.0</td>\n",
       "      <td>15873.0</td>\n",
       "      <td>0.0</td>\n",
       "      <td>0.0</td>\n",
       "      <td>21657.0</td>\n",
       "      <td>1</td>\n",
       "    </tr>\n",
       "    <tr>\n",
       "      <th>12</th>\n",
       "      <td>2757</td>\n",
       "      <td>80000.0</td>\n",
       "      <td>2.0</td>\n",
       "      <td>2.0</td>\n",
       "      <td>2.0</td>\n",
       "      <td>29.0</td>\n",
       "      <td>0.0</td>\n",
       "      <td>0.0</td>\n",
       "      <td>0.0</td>\n",
       "      <td>2.0</td>\n",
       "      <td>...</td>\n",
       "      <td>64714.0</td>\n",
       "      <td>62420.0</td>\n",
       "      <td>62990.0</td>\n",
       "      <td>2753.0</td>\n",
       "      <td>3438.0</td>\n",
       "      <td>4400.0</td>\n",
       "      <td>0.0</td>\n",
       "      <td>2400.0</td>\n",
       "      <td>9974.0</td>\n",
       "      <td>1</td>\n",
       "    </tr>\n",
       "    <tr>\n",
       "      <th>19</th>\n",
       "      <td>6170</td>\n",
       "      <td>20000.0</td>\n",
       "      <td>1.0</td>\n",
       "      <td>3.0</td>\n",
       "      <td>1.0</td>\n",
       "      <td>52.0</td>\n",
       "      <td>1.0</td>\n",
       "      <td>2.0</td>\n",
       "      <td>0.0</td>\n",
       "      <td>0.0</td>\n",
       "      <td>...</td>\n",
       "      <td>19845.0</td>\n",
       "      <td>0.0</td>\n",
       "      <td>0.0</td>\n",
       "      <td>0.0</td>\n",
       "      <td>1200.0</td>\n",
       "      <td>397.0</td>\n",
       "      <td>0.0</td>\n",
       "      <td>0.0</td>\n",
       "      <td>0.0</td>\n",
       "      <td>1</td>\n",
       "    </tr>\n",
       "    <tr>\n",
       "      <th>...</th>\n",
       "      <td>...</td>\n",
       "      <td>...</td>\n",
       "      <td>...</td>\n",
       "      <td>...</td>\n",
       "      <td>...</td>\n",
       "      <td>...</td>\n",
       "      <td>...</td>\n",
       "      <td>...</td>\n",
       "      <td>...</td>\n",
       "      <td>...</td>\n",
       "      <td>...</td>\n",
       "      <td>...</td>\n",
       "      <td>...</td>\n",
       "      <td>...</td>\n",
       "      <td>...</td>\n",
       "      <td>...</td>\n",
       "      <td>...</td>\n",
       "      <td>...</td>\n",
       "      <td>...</td>\n",
       "      <td>...</td>\n",
       "      <td>...</td>\n",
       "    </tr>\n",
       "    <tr>\n",
       "      <th>19983</th>\n",
       "      <td>18182</td>\n",
       "      <td>180000.0</td>\n",
       "      <td>2.0</td>\n",
       "      <td>1.0</td>\n",
       "      <td>1.0</td>\n",
       "      <td>33.0</td>\n",
       "      <td>-1.0</td>\n",
       "      <td>0.0</td>\n",
       "      <td>0.0</td>\n",
       "      <td>0.0</td>\n",
       "      <td>...</td>\n",
       "      <td>2301.0</td>\n",
       "      <td>2364.0</td>\n",
       "      <td>2286.0</td>\n",
       "      <td>1503.0</td>\n",
       "      <td>1400.0</td>\n",
       "      <td>250.0</td>\n",
       "      <td>228.0</td>\n",
       "      <td>106.0</td>\n",
       "      <td>1601.0</td>\n",
       "      <td>1</td>\n",
       "    </tr>\n",
       "    <tr>\n",
       "      <th>19984</th>\n",
       "      <td>5605</td>\n",
       "      <td>70000.0</td>\n",
       "      <td>2.0</td>\n",
       "      <td>3.0</td>\n",
       "      <td>1.0</td>\n",
       "      <td>53.0</td>\n",
       "      <td>2.0</td>\n",
       "      <td>2.0</td>\n",
       "      <td>2.0</td>\n",
       "      <td>2.0</td>\n",
       "      <td>...</td>\n",
       "      <td>56814.0</td>\n",
       "      <td>58053.0</td>\n",
       "      <td>59246.0</td>\n",
       "      <td>2600.0</td>\n",
       "      <td>0.0</td>\n",
       "      <td>4400.0</td>\n",
       "      <td>2300.0</td>\n",
       "      <td>2300.0</td>\n",
       "      <td>2100.0</td>\n",
       "      <td>1</td>\n",
       "    </tr>\n",
       "    <tr>\n",
       "      <th>19990</th>\n",
       "      <td>15031</td>\n",
       "      <td>160000.0</td>\n",
       "      <td>2.0</td>\n",
       "      <td>1.0</td>\n",
       "      <td>1.0</td>\n",
       "      <td>33.0</td>\n",
       "      <td>-1.0</td>\n",
       "      <td>2.0</td>\n",
       "      <td>2.0</td>\n",
       "      <td>-2.0</td>\n",
       "      <td>...</td>\n",
       "      <td>600.0</td>\n",
       "      <td>65000.0</td>\n",
       "      <td>2206.0</td>\n",
       "      <td>0.0</td>\n",
       "      <td>3161.0</td>\n",
       "      <td>0.0</td>\n",
       "      <td>65000.0</td>\n",
       "      <td>2206.0</td>\n",
       "      <td>339.0</td>\n",
       "      <td>1</td>\n",
       "    </tr>\n",
       "    <tr>\n",
       "      <th>19994</th>\n",
       "      <td>1650</td>\n",
       "      <td>30000.0</td>\n",
       "      <td>1.0</td>\n",
       "      <td>2.0</td>\n",
       "      <td>1.0</td>\n",
       "      <td>33.0</td>\n",
       "      <td>0.0</td>\n",
       "      <td>0.0</td>\n",
       "      <td>0.0</td>\n",
       "      <td>0.0</td>\n",
       "      <td>...</td>\n",
       "      <td>26404.0</td>\n",
       "      <td>25806.0</td>\n",
       "      <td>26325.0</td>\n",
       "      <td>1500.0</td>\n",
       "      <td>1433.0</td>\n",
       "      <td>1500.0</td>\n",
       "      <td>920.0</td>\n",
       "      <td>929.0</td>\n",
       "      <td>0.0</td>\n",
       "      <td>1</td>\n",
       "    </tr>\n",
       "    <tr>\n",
       "      <th>19997</th>\n",
       "      <td>14281</td>\n",
       "      <td>20000.0</td>\n",
       "      <td>1.0</td>\n",
       "      <td>2.0</td>\n",
       "      <td>2.0</td>\n",
       "      <td>30.0</td>\n",
       "      <td>1.0</td>\n",
       "      <td>2.0</td>\n",
       "      <td>4.0</td>\n",
       "      <td>3.0</td>\n",
       "      <td>...</td>\n",
       "      <td>19860.0</td>\n",
       "      <td>19690.0</td>\n",
       "      <td>1735.0</td>\n",
       "      <td>2000.0</td>\n",
       "      <td>0.0</td>\n",
       "      <td>0.0</td>\n",
       "      <td>0.0</td>\n",
       "      <td>500.0</td>\n",
       "      <td>0.0</td>\n",
       "      <td>1</td>\n",
       "    </tr>\n",
       "  </tbody>\n",
       "</table>\n",
       "<p>4414 rows × 25 columns</p>\n",
       "</div>"
      ],
      "text/plain": [
       "       cust_id  LIMIT_BAL  SEX  EDUCATION  MARRIAGE   AGE  PAY_0  PAY_2  \\\n",
       "2        28867    60000.0  1.0        1.0       2.0  27.0    0.0    0.0   \n",
       "4         3371    50000.0  1.0        1.0       2.0  29.0    2.0    2.0   \n",
       "8         4761   320000.0  2.0        2.0       2.0  36.0   -2.0   -2.0   \n",
       "12        2757    80000.0  2.0        2.0       2.0  29.0    0.0    0.0   \n",
       "19        6170    20000.0  1.0        3.0       1.0  52.0    1.0    2.0   \n",
       "...        ...        ...  ...        ...       ...   ...    ...    ...   \n",
       "19983    18182   180000.0  2.0        1.0       1.0  33.0   -1.0    0.0   \n",
       "19984     5605    70000.0  2.0        3.0       1.0  53.0    2.0    2.0   \n",
       "19990    15031   160000.0  2.0        1.0       1.0  33.0   -1.0    2.0   \n",
       "19994     1650    30000.0  1.0        2.0       1.0  33.0    0.0    0.0   \n",
       "19997    14281    20000.0  1.0        2.0       2.0  30.0    1.0    2.0   \n",
       "\n",
       "       PAY_3  PAY_4  ...  BILL_AMT4  BILL_AMT5  BILL_AMT6  PAY_AMT1  PAY_AMT2  \\\n",
       "2        0.0    0.0  ...    26038.0    28607.0    27997.0    1378.0    1406.0   \n",
       "4        2.0    0.0  ...     1047.0        0.0        0.0    3000.0       0.0   \n",
       "8       -2.0   -2.0  ...    15813.0        0.0        0.0    5000.0    4905.0   \n",
       "12       0.0    2.0  ...    64714.0    62420.0    62990.0    2753.0    3438.0   \n",
       "19       0.0    0.0  ...    19845.0        0.0        0.0       0.0    1200.0   \n",
       "...      ...    ...  ...        ...        ...        ...       ...       ...   \n",
       "19983    0.0    0.0  ...     2301.0     2364.0     2286.0    1503.0    1400.0   \n",
       "19984    2.0    2.0  ...    56814.0    58053.0    59246.0    2600.0       0.0   \n",
       "19990    2.0   -2.0  ...      600.0    65000.0     2206.0       0.0    3161.0   \n",
       "19994    0.0    0.0  ...    26404.0    25806.0    26325.0    1500.0    1433.0   \n",
       "19997    4.0    3.0  ...    19860.0    19690.0     1735.0    2000.0       0.0   \n",
       "\n",
       "       PAY_AMT3  PAY_AMT4  PAY_AMT5  PAY_AMT6  default.payment.next.month  \n",
       "2        3000.0    3000.0       0.0     923.0                           1  \n",
       "4        1000.0       0.0       0.0       0.0                           1  \n",
       "8       15873.0       0.0       0.0   21657.0                           1  \n",
       "12       4400.0       0.0    2400.0    9974.0                           1  \n",
       "19        397.0       0.0       0.0       0.0                           1  \n",
       "...         ...       ...       ...       ...                         ...  \n",
       "19983     250.0     228.0     106.0    1601.0                           1  \n",
       "19984    4400.0    2300.0    2300.0    2100.0                           1  \n",
       "19990       0.0   65000.0    2206.0     339.0                           1  \n",
       "19994    1500.0     920.0     929.0       0.0                           1  \n",
       "19997       0.0       0.0     500.0       0.0                           1  \n",
       "\n",
       "[4414 rows x 25 columns]"
      ]
     },
     "execution_count": 5,
     "metadata": {},
     "output_type": "execute_result"
    }
   ],
   "source": [
    "train[train['default.payment.next.month'] == 1]"
   ]
  },
  {
   "cell_type": "markdown",
   "id": "2c296d00",
   "metadata": {},
   "source": [
    "## DATA PRE - PROCESSING "
   ]
  },
  {
   "cell_type": "code",
   "execution_count": 6,
   "id": "839daa05",
   "metadata": {},
   "outputs": [],
   "source": [
    "train['C_PAY_0'] = train['PAY_0']\n",
    "train['C_PAY_2'] = train['PAY_2']\n",
    "train['C_PAY_3'] = train['PAY_3']\n",
    "train['C_PAY_4'] = train['PAY_4']\n",
    "train['C_PAY_5'] = train['PAY_5']\n",
    "train['C_PAY_6'] = train['PAY_6']\n",
    "\n",
    "test['C_PAY_0'] = test['PAY_0']\n",
    "test['C_PAY_2'] = test['PAY_2']\n",
    "test['C_PAY_3'] = test['PAY_3']\n",
    "test['C_PAY_4'] = test['PAY_4']\n",
    "test['C_PAY_5'] = test['PAY_5']\n",
    "test['C_PAY_6'] = test['PAY_6']"
   ]
  },
  {
   "cell_type": "code",
   "execution_count": 7,
   "id": "7cc09b4a",
   "metadata": {},
   "outputs": [],
   "source": [
    "id_var = [\"cust_id\"]  # ID\n",
    "target_var = [\"default.payment.next.month\"]  # Target get variable\n",
    "predictors = [v for v in train.columns if v not in id_var + target_var]\n",
    "\n",
    "# List of numerical and catergorical variables\n",
    "num_vars = ['LIMIT_BAL', 'AGE',\n",
    "            'BILL_AMT1', 'BILL_AMT2', 'BILL_AMT3', 'BILL_AMT4', 'BILL_AMT5', 'BILL_AMT6',\n",
    "            'PAY_AMT1', 'PAY_AMT2', 'PAY_AMT3', 'PAY_AMT4', 'PAY_AMT5', 'PAY_AMT6', 'PAY_0', 'PAY_2', 'PAY_3', 'PAY_4', 'PAY_5', 'PAY_6']\n",
    "cat_vars = ['SEX', 'EDUCATION', 'MARRIAGE','C_PAY_0','C_PAY_2','C_PAY_3','C_PAY_4','C_PAY_5','C_PAY_6']\n",
    "\n",
    "# Double check the list of variables\n",
    "assert(len(predictors) == len(num_vars) + len(cat_vars))"
   ]
  },
  {
   "cell_type": "code",
   "execution_count": 8,
   "id": "8365cb5a",
   "metadata": {},
   "outputs": [
    {
     "name": "stdout",
     "output_type": "stream",
     "text": [
      "default.payment.next.month\n",
      "0                             15586\n",
      "1                              4414\n",
      "dtype: int64\n",
      "default.payment.next.month\n",
      "0                             0.7793\n",
      "1                             0.2207\n",
      "dtype: float64\n"
     ]
    }
   ],
   "source": [
    "# By number\n",
    "print(train[target_var].value_counts())\n",
    "\n",
    "# By percentage\n",
    "print(train[target_var].value_counts(normalize=True))"
   ]
  },
  {
   "cell_type": "code",
   "execution_count": 9,
   "id": "d9786981",
   "metadata": {},
   "outputs": [
    {
     "name": "stdout",
     "output_type": "stream",
     "text": [
      "Drop num variables with high missing pct: []\n",
      "Drop cat variables with high missing pct: []\n"
     ]
    }
   ],
   "source": [
    "# Here, we test the effect of dropping variables with high missing percentage (>30%)\n",
    "na_threshold = 0.3\n",
    "\n",
    "# Drop num variables with more than 30% missing values\n",
    "num_na_pct = train[num_vars].isnull().mean()\n",
    "num_vars = num_na_pct[num_na_pct <= na_threshold].index.tolist()\n",
    "print(\"Drop num variables with high missing pct:\", num_na_pct[num_na_pct > na_threshold].tolist())\n",
    "\n",
    "# Drop cat variables with more than 30% missing values\n",
    "cat_na_pct = train[cat_vars].isnull().mean()\n",
    "cat_vars = cat_na_pct[cat_na_pct <= 0.3].index.tolist()\n",
    "print(\"Drop cat variables with high missing pct:\", cat_na_pct[cat_na_pct > na_threshold].tolist())\n",
    "\n",
    "# Update train, test\n",
    "train = train[id_var + num_vars + cat_vars + target_var]\n",
    "test = test[id_var + num_vars + cat_vars]"
   ]
  },
  {
   "cell_type": "code",
   "execution_count": 10,
   "id": "118baf5f",
   "metadata": {},
   "outputs": [],
   "source": [
    "na_vars = []\n",
    "imp = SimpleImputer(missing_values=np.nan, strategy='mean', add_indicator=True)\n",
    "imp.fit(train[num_vars])\n",
    "\n",
    "# Reconstruct the list of vars + indicators\n",
    "na_vars = na_vars + [num_vars[v] + \"_na\" for v in imp.indicator_.features_]\n",
    "impute_vars = num_vars + na_vars\n",
    "\n",
    "# Apply on train, test\n",
    "train[impute_vars] = pd.DataFrame(imp.transform(train[num_vars]), columns=impute_vars)\n",
    "test[impute_vars] = pd.DataFrame(imp.transform(test[num_vars]), columns=impute_vars)"
   ]
  },
  {
   "cell_type": "code",
   "execution_count": 11,
   "id": "e7bcb161",
   "metadata": {},
   "outputs": [],
   "source": [
    "train[cat_vars] = train[cat_vars].fillna('Missing')\n",
    "test[cat_vars] = test[cat_vars].fillna('Missing')"
   ]
  },
  {
   "cell_type": "code",
   "execution_count": 12,
   "id": "3f0bebce",
   "metadata": {},
   "outputs": [
    {
     "data": {
      "text/plain": [
       "0"
      ]
     },
     "execution_count": 12,
     "metadata": {},
     "output_type": "execute_result"
    }
   ],
   "source": [
    "test.isna().sum().sum()"
   ]
  },
  {
   "cell_type": "code",
   "execution_count": 13,
   "id": "11b09337",
   "metadata": {},
   "outputs": [
    {
     "data": {
      "text/plain": [
       "0"
      ]
     },
     "execution_count": 13,
     "metadata": {},
     "output_type": "execute_result"
    }
   ],
   "source": [
    "train.isna().sum().sum()"
   ]
  },
  {
   "cell_type": "code",
   "execution_count": 14,
   "id": "3fb21104",
   "metadata": {},
   "outputs": [
    {
     "data": {
      "text/plain": [
       "Index(['cust_id', 'LIMIT_BAL', 'AGE', 'BILL_AMT1', 'BILL_AMT2', 'BILL_AMT3',\n",
       "       'BILL_AMT4', 'BILL_AMT5', 'BILL_AMT6', 'PAY_AMT1', 'PAY_AMT2',\n",
       "       'PAY_AMT3', 'PAY_AMT4', 'PAY_AMT5', 'PAY_AMT6', 'PAY_0', 'PAY_2',\n",
       "       'PAY_3', 'PAY_4', 'PAY_5', 'PAY_6', 'SEX', 'EDUCATION', 'MARRIAGE',\n",
       "       'C_PAY_0', 'C_PAY_2', 'C_PAY_3', 'C_PAY_4', 'C_PAY_5', 'C_PAY_6',\n",
       "       'default.payment.next.month', 'LIMIT_BAL_na', 'AGE_na', 'BILL_AMT1_na',\n",
       "       'BILL_AMT2_na', 'BILL_AMT3_na', 'BILL_AMT4_na', 'BILL_AMT5_na',\n",
       "       'BILL_AMT6_na', 'PAY_AMT1_na', 'PAY_AMT2_na', 'PAY_AMT3_na',\n",
       "       'PAY_AMT4_na', 'PAY_AMT5_na', 'PAY_AMT6_na', 'PAY_0_na', 'PAY_2_na',\n",
       "       'PAY_3_na', 'PAY_4_na', 'PAY_5_na', 'PAY_6_na'],\n",
       "      dtype='object')"
      ]
     },
     "execution_count": 14,
     "metadata": {},
     "output_type": "execute_result"
    }
   ],
   "source": [
    "train.columns"
   ]
  },
  {
   "cell_type": "code",
   "execution_count": 15,
   "id": "f3954f62",
   "metadata": {},
   "outputs": [
    {
     "data": {
      "text/plain": [
       "cust_id                         int64\n",
       "LIMIT_BAL                     float64\n",
       "AGE                           float64\n",
       "BILL_AMT1                     float64\n",
       "BILL_AMT2                     float64\n",
       "BILL_AMT3                     float64\n",
       "BILL_AMT4                     float64\n",
       "BILL_AMT5                     float64\n",
       "BILL_AMT6                     float64\n",
       "PAY_AMT1                      float64\n",
       "PAY_AMT2                      float64\n",
       "PAY_AMT3                      float64\n",
       "PAY_AMT4                      float64\n",
       "PAY_AMT5                      float64\n",
       "PAY_AMT6                      float64\n",
       "PAY_0                         float64\n",
       "PAY_2                         float64\n",
       "PAY_3                         float64\n",
       "PAY_4                         float64\n",
       "PAY_5                         float64\n",
       "PAY_6                         float64\n",
       "SEX                            object\n",
       "EDUCATION                      object\n",
       "MARRIAGE                       object\n",
       "C_PAY_0                        object\n",
       "C_PAY_2                        object\n",
       "C_PAY_3                        object\n",
       "C_PAY_4                        object\n",
       "C_PAY_5                        object\n",
       "C_PAY_6                        object\n",
       "default.payment.next.month      int64\n",
       "LIMIT_BAL_na                  float64\n",
       "AGE_na                        float64\n",
       "BILL_AMT1_na                  float64\n",
       "BILL_AMT2_na                  float64\n",
       "BILL_AMT3_na                  float64\n",
       "BILL_AMT4_na                  float64\n",
       "BILL_AMT5_na                  float64\n",
       "BILL_AMT6_na                  float64\n",
       "PAY_AMT1_na                   float64\n",
       "PAY_AMT2_na                   float64\n",
       "PAY_AMT3_na                   float64\n",
       "PAY_AMT4_na                   float64\n",
       "PAY_AMT5_na                   float64\n",
       "PAY_AMT6_na                   float64\n",
       "PAY_0_na                      float64\n",
       "PAY_2_na                      float64\n",
       "PAY_3_na                      float64\n",
       "PAY_4_na                      float64\n",
       "PAY_5_na                      float64\n",
       "PAY_6_na                      float64\n",
       "dtype: object"
      ]
     },
     "execution_count": 15,
     "metadata": {},
     "output_type": "execute_result"
    }
   ],
   "source": [
    "train.dtypes"
   ]
  },
  {
   "cell_type": "code",
   "execution_count": 16,
   "id": "ba024cc0",
   "metadata": {},
   "outputs": [
    {
     "data": {
      "text/plain": [
       "Index(['cust_id', 'LIMIT_BAL', 'AGE', 'BILL_AMT1', 'BILL_AMT2', 'BILL_AMT3',\n",
       "       'BILL_AMT4', 'BILL_AMT5', 'BILL_AMT6', 'PAY_AMT1', 'PAY_AMT2',\n",
       "       'PAY_AMT3', 'PAY_AMT4', 'PAY_AMT5', 'PAY_AMT6', 'PAY_0', 'PAY_2',\n",
       "       'PAY_3', 'PAY_4', 'PAY_5', 'PAY_6', 'SEX', 'EDUCATION', 'MARRIAGE',\n",
       "       'C_PAY_0', 'C_PAY_2', 'C_PAY_3', 'C_PAY_4', 'C_PAY_5', 'C_PAY_6',\n",
       "       'LIMIT_BAL_na', 'AGE_na', 'BILL_AMT1_na', 'BILL_AMT2_na',\n",
       "       'BILL_AMT3_na', 'BILL_AMT4_na', 'BILL_AMT5_na', 'BILL_AMT6_na',\n",
       "       'PAY_AMT1_na', 'PAY_AMT2_na', 'PAY_AMT3_na', 'PAY_AMT4_na',\n",
       "       'PAY_AMT5_na', 'PAY_AMT6_na', 'PAY_0_na', 'PAY_2_na', 'PAY_3_na',\n",
       "       'PAY_4_na', 'PAY_5_na', 'PAY_6_na'],\n",
       "      dtype='object')"
      ]
     },
     "execution_count": 16,
     "metadata": {},
     "output_type": "execute_result"
    }
   ],
   "source": [
    "test.columns"
   ]
  },
  {
   "cell_type": "markdown",
   "id": "5ff7022e",
   "metadata": {},
   "source": [
    "### Feature Engineering"
   ]
  },
  {
   "cell_type": "markdown",
   "id": "a7eda2c9",
   "metadata": {},
   "source": [
    "#### Creating New Variables from Exisiting Variables "
   ]
  },
  {
   "cell_type": "code",
   "execution_count": 17,
   "id": "7949bb4a",
   "metadata": {},
   "outputs": [],
   "source": [
    "#Total Payment Per Customer \n",
    "train['total_pay']=train['PAY_AMT1']+train['PAY_AMT2']+train['PAY_AMT3']+train['PAY_AMT4']+train['PAY_AMT5']+train['PAY_AMT6']\n",
    "test['total_pay']=test['PAY_AMT1']+test['PAY_AMT2']+test['PAY_AMT3']+test['PAY_AMT4']+test['PAY_AMT5']+test['PAY_AMT6']"
   ]
  },
  {
   "cell_type": "code",
   "execution_count": 18,
   "id": "e127c028",
   "metadata": {},
   "outputs": [],
   "source": [
    "#Total Bill Per Customer\n",
    "train['Total_Bill'] = train['BILL_AMT1']+train['BILL_AMT2']+train['BILL_AMT3']+train['BILL_AMT4']+train['BILL_AMT5']+train['BILL_AMT6']\n",
    "test['Total_Bill'] = test['BILL_AMT1']+test['BILL_AMT2']+test['BILL_AMT3']+test['BILL_AMT4']+test['BILL_AMT5']+test['BILL_AMT6']"
   ]
  },
  {
   "cell_type": "code",
   "execution_count": 19,
   "id": "b5b1ed3c",
   "metadata": {},
   "outputs": [],
   "source": [
    "#Max, Min of Pay & Bill \n",
    "train[\"Max_Pay\"] = train[[\"PAY_AMT1\", \"PAY_AMT2\",\"PAY_AMT3\",\"PAY_AMT4\",\"PAY_AMT5\",\"PAY_AMT6\"]].max(axis=1)\n",
    "test[\"Max_Pay\"] = test[[\"PAY_AMT1\", \"PAY_AMT2\",\"PAY_AMT3\",\"PAY_AMT4\",\"PAY_AMT5\",\"PAY_AMT6\"]].max(axis=1)\n",
    "\n",
    "train[\"Min_Pay\"] = train[[\"PAY_AMT1\", \"PAY_AMT2\",\"PAY_AMT3\",\"PAY_AMT4\",\"PAY_AMT5\",\"PAY_AMT6\"]].min(axis=1)\n",
    "test[\"Min_Pay\"] = test[[\"PAY_AMT1\", \"PAY_AMT2\",\"PAY_AMT3\",\"PAY_AMT4\",\"PAY_AMT5\",\"PAY_AMT6\"]].min(axis=1)\n",
    "\n",
    "\n",
    "train[\"Max_Bill\"] = train[[\"BILL_AMT1\", \"BILL_AMT2\",\"BILL_AMT3\",\"BILL_AMT4\",\"BILL_AMT5\",\"BILL_AMT6\"]].max(axis=1)\n",
    "test[\"Max_Bill\"] = test[[\"BILL_AMT1\", \"BILL_AMT2\",\"BILL_AMT3\",\"BILL_AMT4\",\"BILL_AMT5\",\"BILL_AMT6\"]].max(axis=1)\n",
    "\n",
    "train[\"Min_Bill\"] = train[[\"BILL_AMT1\", \"BILL_AMT2\",\"BILL_AMT3\",\"BILL_AMT4\",\"BILL_AMT5\",\"BILL_AMT6\"]].min(axis=1)\n",
    "test[\"Min_Bill\"] = test[[\"BILL_AMT1\", \"BILL_AMT2\",\"BILL_AMT3\",\"BILL_AMT4\",\"BILL_AMT5\",\"BILL_AMT6\"]].min(axis=1)"
   ]
  },
  {
   "cell_type": "code",
   "execution_count": 20,
   "id": "71f9a448",
   "metadata": {},
   "outputs": [],
   "source": [
    "#Average Payment Per Customer \n",
    "train['avg_pay']  = train['total_pay']/6\n",
    "test['avg_pay'] = test['total_pay']/6\n",
    "#Average Bill Amount Per Customer \n",
    "\n",
    "train['avg_bill']  = train['Total_Bill']/6\n",
    "test['avg_bill'] = test['Total_Bill']/6"
   ]
  },
  {
   "cell_type": "code",
   "execution_count": 21,
   "id": "e56630fe",
   "metadata": {},
   "outputs": [],
   "source": [
    "# Average Month Delay in Payment by customer \n",
    "train['avg_dly'] = (train['PAY_0']+train['PAY_2']+train['PAY_3']+train['PAY_4']+train['PAY_5']+train['PAY_6'])/6\n",
    "test['avg_dly'] = (test['PAY_0']+test['PAY_2']+test['PAY_3']+test['PAY_4']+test['PAY_5']+test['PAY_6'])/6"
   ]
  },
  {
   "cell_type": "code",
   "execution_count": 22,
   "id": "5f0b7609",
   "metadata": {},
   "outputs": [],
   "source": [
    "# Max, Min Month Delay in Payment by customer \n",
    "train['Max_dly'] =  train[['PAY_0', 'PAY_2','PAY_3', 'PAY_4', 'PAY_5', 'PAY_6']].max(axis=1)\n",
    "test['Max_dly'] = test[['PAY_0', 'PAY_2','PAY_3', 'PAY_4', 'PAY_5', 'PAY_6']].max(axis=1)\n",
    "\n",
    "train['Min_dly'] = train[['PAY_0', 'PAY_2','PAY_3', 'PAY_4', 'PAY_5', 'PAY_6']].min(axis=1)\n",
    "test['Min_dly'] = test[['PAY_0', 'PAY_2','PAY_3', 'PAY_4', 'PAY_5', 'PAY_6']].min(axis=1)"
   ]
  },
  {
   "cell_type": "code",
   "execution_count": 23,
   "id": "627dd87d",
   "metadata": {},
   "outputs": [],
   "source": [
    "#Using Limit Balance To create additional variables \n",
    "train['Limit_Bal_Max_Bill'] = train['LIMIT_BAL']/(train[\"Max_Bill\"] + 1)\n",
    "train['Limit_Bal_Avg_Bill'] = train['LIMIT_BAL']/(train[\"avg_bill\"] + 1)\n",
    "train['Limit_Bal_Max_Avg'] = train['Limit_Bal_Max_Bill']/train['Limit_Bal_Avg_Bill']"
   ]
  },
  {
   "cell_type": "code",
   "execution_count": 24,
   "id": "d6c1d62e",
   "metadata": {},
   "outputs": [],
   "source": [
    "test['Limit_Bal_Max_Bill'] = test['LIMIT_BAL']/(test[\"Max_Bill\"] + 1)\n",
    "test['Limit_Bal_Avg_Bill'] = test['LIMIT_BAL']/(test[\"avg_bill\"] + 1)\n",
    "test['Limit_Bal_Max_Avg'] = test['Limit_Bal_Max_Bill']/test['Limit_Bal_Avg_Bill']"
   ]
  },
  {
   "cell_type": "code",
   "execution_count": 25,
   "id": "17819837",
   "metadata": {},
   "outputs": [],
   "source": [
    "train['Avg_Payment_%'] = train['avg_bill'] / train['avg_pay']\n",
    "test['Avg_Payment_%'] = test['avg_bill'] / test['avg_pay']"
   ]
  },
  {
   "cell_type": "code",
   "execution_count": 26,
   "id": "2d2bdb1c",
   "metadata": {},
   "outputs": [],
   "source": [
    "train['Avg_Payment_%'] = train['Avg_Payment_%'].fillna(0)\n",
    "test['Avg_Payment_%'] = test['Avg_Payment_%'].fillna(0)"
   ]
  },
  {
   "cell_type": "code",
   "execution_count": 27,
   "id": "df635571",
   "metadata": {},
   "outputs": [
    {
     "data": {
      "text/plain": [
       "(20000, 66)"
      ]
     },
     "execution_count": 27,
     "metadata": {},
     "output_type": "execute_result"
    }
   ],
   "source": [
    "train.shape"
   ]
  },
  {
   "cell_type": "code",
   "execution_count": 28,
   "id": "46734dbc",
   "metadata": {},
   "outputs": [
    {
     "data": {
      "text/plain": [
       "(10000, 65)"
      ]
     },
     "execution_count": 28,
     "metadata": {},
     "output_type": "execute_result"
    }
   ],
   "source": [
    "test.shape"
   ]
  },
  {
   "cell_type": "code",
   "execution_count": 29,
   "id": "53eca109",
   "metadata": {},
   "outputs": [
    {
     "data": {
      "text/html": [
       "<div>\n",
       "<style scoped>\n",
       "    .dataframe tbody tr th:only-of-type {\n",
       "        vertical-align: middle;\n",
       "    }\n",
       "\n",
       "    .dataframe tbody tr th {\n",
       "        vertical-align: top;\n",
       "    }\n",
       "\n",
       "    .dataframe thead th {\n",
       "        text-align: right;\n",
       "    }\n",
       "</style>\n",
       "<table border=\"1\" class=\"dataframe\">\n",
       "  <thead>\n",
       "    <tr style=\"text-align: right;\">\n",
       "      <th></th>\n",
       "      <th>cust_id</th>\n",
       "      <th>LIMIT_BAL</th>\n",
       "      <th>AGE</th>\n",
       "      <th>BILL_AMT1</th>\n",
       "      <th>BILL_AMT2</th>\n",
       "      <th>BILL_AMT3</th>\n",
       "      <th>BILL_AMT4</th>\n",
       "      <th>BILL_AMT5</th>\n",
       "      <th>BILL_AMT6</th>\n",
       "      <th>PAY_AMT1</th>\n",
       "      <th>...</th>\n",
       "      <th>Min_Bill</th>\n",
       "      <th>avg_pay</th>\n",
       "      <th>avg_bill</th>\n",
       "      <th>avg_dly</th>\n",
       "      <th>Max_dly</th>\n",
       "      <th>Min_dly</th>\n",
       "      <th>Limit_Bal_Max_Bill</th>\n",
       "      <th>Limit_Bal_Avg_Bill</th>\n",
       "      <th>Limit_Bal_Max_Avg</th>\n",
       "      <th>Avg_Payment_%</th>\n",
       "    </tr>\n",
       "  </thead>\n",
       "  <tbody>\n",
       "    <tr>\n",
       "      <th>0</th>\n",
       "      <td>18895</td>\n",
       "      <td>70000.0</td>\n",
       "      <td>34.0</td>\n",
       "      <td>53972.000000</td>\n",
       "      <td>23149.0</td>\n",
       "      <td>23968.0</td>\n",
       "      <td>25559.0</td>\n",
       "      <td>26134.0</td>\n",
       "      <td>26715.0</td>\n",
       "      <td>1700.0</td>\n",
       "      <td>...</td>\n",
       "      <td>23149.0</td>\n",
       "      <td>1533.333333</td>\n",
       "      <td>29916.166667</td>\n",
       "      <td>0.000000</td>\n",
       "      <td>0.0</td>\n",
       "      <td>0.0</td>\n",
       "      <td>1.296945</td>\n",
       "      <td>2.339794</td>\n",
       "      <td>0.554299</td>\n",
       "      <td>19.510543</td>\n",
       "    </tr>\n",
       "    <tr>\n",
       "      <th>1</th>\n",
       "      <td>25102</td>\n",
       "      <td>390000.0</td>\n",
       "      <td>26.0</td>\n",
       "      <td>185111.000000</td>\n",
       "      <td>172865.0</td>\n",
       "      <td>153795.0</td>\n",
       "      <td>140387.0</td>\n",
       "      <td>128112.0</td>\n",
       "      <td>115514.0</td>\n",
       "      <td>5000.0</td>\n",
       "      <td>...</td>\n",
       "      <td>115514.0</td>\n",
       "      <td>4158.000000</td>\n",
       "      <td>149297.333333</td>\n",
       "      <td>1.000000</td>\n",
       "      <td>2.0</td>\n",
       "      <td>0.0</td>\n",
       "      <td>2.106833</td>\n",
       "      <td>2.612219</td>\n",
       "      <td>0.806530</td>\n",
       "      <td>35.906045</td>\n",
       "    </tr>\n",
       "    <tr>\n",
       "      <th>2</th>\n",
       "      <td>28867</td>\n",
       "      <td>60000.0</td>\n",
       "      <td>27.0</td>\n",
       "      <td>21387.000000</td>\n",
       "      <td>22416.0</td>\n",
       "      <td>23444.0</td>\n",
       "      <td>26038.0</td>\n",
       "      <td>28607.0</td>\n",
       "      <td>27997.0</td>\n",
       "      <td>1378.0</td>\n",
       "      <td>...</td>\n",
       "      <td>21387.0</td>\n",
       "      <td>1617.833333</td>\n",
       "      <td>24981.500000</td>\n",
       "      <td>0.333333</td>\n",
       "      <td>2.0</td>\n",
       "      <td>0.0</td>\n",
       "      <td>2.097315</td>\n",
       "      <td>2.401681</td>\n",
       "      <td>0.873270</td>\n",
       "      <td>15.441331</td>\n",
       "    </tr>\n",
       "    <tr>\n",
       "      <th>3</th>\n",
       "      <td>1842</td>\n",
       "      <td>140000.0</td>\n",
       "      <td>55.0</td>\n",
       "      <td>108038.000000</td>\n",
       "      <td>110216.0</td>\n",
       "      <td>84516.0</td>\n",
       "      <td>72391.0</td>\n",
       "      <td>61298.0</td>\n",
       "      <td>62193.0</td>\n",
       "      <td>4200.0</td>\n",
       "      <td>...</td>\n",
       "      <td>61298.0</td>\n",
       "      <td>2781.166667</td>\n",
       "      <td>83108.666667</td>\n",
       "      <td>0.000000</td>\n",
       "      <td>0.0</td>\n",
       "      <td>0.0</td>\n",
       "      <td>1.270221</td>\n",
       "      <td>1.684521</td>\n",
       "      <td>0.754055</td>\n",
       "      <td>29.882663</td>\n",
       "    </tr>\n",
       "    <tr>\n",
       "      <th>4</th>\n",
       "      <td>3371</td>\n",
       "      <td>50000.0</td>\n",
       "      <td>29.0</td>\n",
       "      <td>7881.000000</td>\n",
       "      <td>10415.0</td>\n",
       "      <td>3997.0</td>\n",
       "      <td>1047.0</td>\n",
       "      <td>0.0</td>\n",
       "      <td>0.0</td>\n",
       "      <td>3000.0</td>\n",
       "      <td>...</td>\n",
       "      <td>0.0</td>\n",
       "      <td>666.666667</td>\n",
       "      <td>3890.000000</td>\n",
       "      <td>0.666667</td>\n",
       "      <td>2.0</td>\n",
       "      <td>-2.0</td>\n",
       "      <td>4.800307</td>\n",
       "      <td>12.850167</td>\n",
       "      <td>0.373560</td>\n",
       "      <td>5.835000</td>\n",
       "    </tr>\n",
       "    <tr>\n",
       "      <th>5</th>\n",
       "      <td>29925</td>\n",
       "      <td>20000.0</td>\n",
       "      <td>37.0</td>\n",
       "      <td>20009.000000</td>\n",
       "      <td>20602.0</td>\n",
       "      <td>21255.0</td>\n",
       "      <td>19105.0</td>\n",
       "      <td>19609.0</td>\n",
       "      <td>19283.0</td>\n",
       "      <td>1700.0</td>\n",
       "      <td>...</td>\n",
       "      <td>19105.0</td>\n",
       "      <td>1233.333333</td>\n",
       "      <td>19977.166667</td>\n",
       "      <td>0.000000</td>\n",
       "      <td>0.0</td>\n",
       "      <td>0.0</td>\n",
       "      <td>0.940911</td>\n",
       "      <td>1.001093</td>\n",
       "      <td>0.939884</td>\n",
       "      <td>16.197703</td>\n",
       "    </tr>\n",
       "    <tr>\n",
       "      <th>6</th>\n",
       "      <td>29940</td>\n",
       "      <td>50000.0</td>\n",
       "      <td>44.0</td>\n",
       "      <td>51041.121726</td>\n",
       "      <td>50525.0</td>\n",
       "      <td>51463.0</td>\n",
       "      <td>49952.0</td>\n",
       "      <td>19584.0</td>\n",
       "      <td>19080.0</td>\n",
       "      <td>1762.0</td>\n",
       "      <td>...</td>\n",
       "      <td>19080.0</td>\n",
       "      <td>1516.500000</td>\n",
       "      <td>40274.186954</td>\n",
       "      <td>0.333333</td>\n",
       "      <td>2.0</td>\n",
       "      <td>0.0</td>\n",
       "      <td>0.971553</td>\n",
       "      <td>1.241459</td>\n",
       "      <td>0.782590</td>\n",
       "      <td>26.557327</td>\n",
       "    </tr>\n",
       "    <tr>\n",
       "      <th>7</th>\n",
       "      <td>11638</td>\n",
       "      <td>250000.0</td>\n",
       "      <td>30.0</td>\n",
       "      <td>5724.000000</td>\n",
       "      <td>6729.0</td>\n",
       "      <td>4973.0</td>\n",
       "      <td>9693.0</td>\n",
       "      <td>799.0</td>\n",
       "      <td>4295.0</td>\n",
       "      <td>2000.0</td>\n",
       "      <td>...</td>\n",
       "      <td>799.0</td>\n",
       "      <td>2221.666667</td>\n",
       "      <td>5368.833333</td>\n",
       "      <td>0.000000</td>\n",
       "      <td>2.0</td>\n",
       "      <td>-1.0</td>\n",
       "      <td>25.789148</td>\n",
       "      <td>46.556380</td>\n",
       "      <td>0.553934</td>\n",
       "      <td>2.416579</td>\n",
       "    </tr>\n",
       "    <tr>\n",
       "      <th>8</th>\n",
       "      <td>4761</td>\n",
       "      <td>320000.0</td>\n",
       "      <td>36.0</td>\n",
       "      <td>29862.000000</td>\n",
       "      <td>33785.0</td>\n",
       "      <td>4900.0</td>\n",
       "      <td>15813.0</td>\n",
       "      <td>0.0</td>\n",
       "      <td>0.0</td>\n",
       "      <td>5000.0</td>\n",
       "      <td>...</td>\n",
       "      <td>0.0</td>\n",
       "      <td>7905.833333</td>\n",
       "      <td>14060.000000</td>\n",
       "      <td>-2.000000</td>\n",
       "      <td>-2.0</td>\n",
       "      <td>-2.0</td>\n",
       "      <td>9.471379</td>\n",
       "      <td>22.757983</td>\n",
       "      <td>0.416178</td>\n",
       "      <td>1.778434</td>\n",
       "    </tr>\n",
       "    <tr>\n",
       "      <th>9</th>\n",
       "      <td>6746</td>\n",
       "      <td>300000.0</td>\n",
       "      <td>35.0</td>\n",
       "      <td>91282.000000</td>\n",
       "      <td>45885.0</td>\n",
       "      <td>35329.0</td>\n",
       "      <td>29368.0</td>\n",
       "      <td>18833.0</td>\n",
       "      <td>93329.0</td>\n",
       "      <td>3260.0</td>\n",
       "      <td>...</td>\n",
       "      <td>18833.0</td>\n",
       "      <td>15314.833333</td>\n",
       "      <td>52337.666667</td>\n",
       "      <td>0.000000</td>\n",
       "      <td>0.0</td>\n",
       "      <td>0.0</td>\n",
       "      <td>3.214401</td>\n",
       "      <td>5.731900</td>\n",
       "      <td>0.560791</td>\n",
       "      <td>3.417449</td>\n",
       "    </tr>\n",
       "    <tr>\n",
       "      <th>10</th>\n",
       "      <td>26203</td>\n",
       "      <td>500000.0</td>\n",
       "      <td>41.0</td>\n",
       "      <td>719.000000</td>\n",
       "      <td>1550.0</td>\n",
       "      <td>-50.0</td>\n",
       "      <td>-50.0</td>\n",
       "      <td>10037.0</td>\n",
       "      <td>79.0</td>\n",
       "      <td>1558.0</td>\n",
       "      <td>...</td>\n",
       "      <td>-50.0</td>\n",
       "      <td>2032.500000</td>\n",
       "      <td>2047.500000</td>\n",
       "      <td>-1.166667</td>\n",
       "      <td>-1.0</td>\n",
       "      <td>-2.0</td>\n",
       "      <td>49.810719</td>\n",
       "      <td>244.081035</td>\n",
       "      <td>0.204075</td>\n",
       "      <td>1.007380</td>\n",
       "    </tr>\n",
       "    <tr>\n",
       "      <th>11</th>\n",
       "      <td>16128</td>\n",
       "      <td>90000.0</td>\n",
       "      <td>32.0</td>\n",
       "      <td>573.000000</td>\n",
       "      <td>0.0</td>\n",
       "      <td>0.0</td>\n",
       "      <td>0.0</td>\n",
       "      <td>0.0</td>\n",
       "      <td>0.0</td>\n",
       "      <td>157.0</td>\n",
       "      <td>...</td>\n",
       "      <td>0.0</td>\n",
       "      <td>26.166667</td>\n",
       "      <td>95.500000</td>\n",
       "      <td>-2.000000</td>\n",
       "      <td>-2.0</td>\n",
       "      <td>-2.0</td>\n",
       "      <td>156.794425</td>\n",
       "      <td>932.642487</td>\n",
       "      <td>0.168118</td>\n",
       "      <td>3.649682</td>\n",
       "    </tr>\n",
       "    <tr>\n",
       "      <th>12</th>\n",
       "      <td>2757</td>\n",
       "      <td>80000.0</td>\n",
       "      <td>29.0</td>\n",
       "      <td>59520.000000</td>\n",
       "      <td>60492.0</td>\n",
       "      <td>62160.0</td>\n",
       "      <td>64714.0</td>\n",
       "      <td>62420.0</td>\n",
       "      <td>62990.0</td>\n",
       "      <td>2753.0</td>\n",
       "      <td>...</td>\n",
       "      <td>59520.0</td>\n",
       "      <td>3827.500000</td>\n",
       "      <td>62049.333333</td>\n",
       "      <td>0.666667</td>\n",
       "      <td>2.0</td>\n",
       "      <td>0.0</td>\n",
       "      <td>1.236189</td>\n",
       "      <td>1.289276</td>\n",
       "      <td>0.958825</td>\n",
       "      <td>16.211452</td>\n",
       "    </tr>\n",
       "    <tr>\n",
       "      <th>13</th>\n",
       "      <td>21491</td>\n",
       "      <td>30000.0</td>\n",
       "      <td>24.0</td>\n",
       "      <td>28218.000000</td>\n",
       "      <td>28704.0</td>\n",
       "      <td>30428.0</td>\n",
       "      <td>28914.0</td>\n",
       "      <td>29357.0</td>\n",
       "      <td>29955.0</td>\n",
       "      <td>2000.0</td>\n",
       "      <td>...</td>\n",
       "      <td>28218.0</td>\n",
       "      <td>1550.000000</td>\n",
       "      <td>29262.666667</td>\n",
       "      <td>0.333333</td>\n",
       "      <td>2.0</td>\n",
       "      <td>0.0</td>\n",
       "      <td>0.985902</td>\n",
       "      <td>1.025162</td>\n",
       "      <td>0.961703</td>\n",
       "      <td>18.879140</td>\n",
       "    </tr>\n",
       "    <tr>\n",
       "      <th>14</th>\n",
       "      <td>29787</td>\n",
       "      <td>100000.0</td>\n",
       "      <td>41.0</td>\n",
       "      <td>77208.000000</td>\n",
       "      <td>75377.0</td>\n",
       "      <td>77044.0</td>\n",
       "      <td>78333.0</td>\n",
       "      <td>78130.0</td>\n",
       "      <td>77761.0</td>\n",
       "      <td>0.0</td>\n",
       "      <td>...</td>\n",
       "      <td>75377.0</td>\n",
       "      <td>2518.500000</td>\n",
       "      <td>77308.833333</td>\n",
       "      <td>0.500000</td>\n",
       "      <td>2.0</td>\n",
       "      <td>0.0</td>\n",
       "      <td>1.276585</td>\n",
       "      <td>1.293497</td>\n",
       "      <td>0.986926</td>\n",
       "      <td>30.696380</td>\n",
       "    </tr>\n",
       "  </tbody>\n",
       "</table>\n",
       "<p>15 rows × 66 columns</p>\n",
       "</div>"
      ],
      "text/plain": [
       "    cust_id  LIMIT_BAL   AGE      BILL_AMT1  BILL_AMT2  BILL_AMT3  BILL_AMT4  \\\n",
       "0     18895    70000.0  34.0   53972.000000    23149.0    23968.0    25559.0   \n",
       "1     25102   390000.0  26.0  185111.000000   172865.0   153795.0   140387.0   \n",
       "2     28867    60000.0  27.0   21387.000000    22416.0    23444.0    26038.0   \n",
       "3      1842   140000.0  55.0  108038.000000   110216.0    84516.0    72391.0   \n",
       "4      3371    50000.0  29.0    7881.000000    10415.0     3997.0     1047.0   \n",
       "5     29925    20000.0  37.0   20009.000000    20602.0    21255.0    19105.0   \n",
       "6     29940    50000.0  44.0   51041.121726    50525.0    51463.0    49952.0   \n",
       "7     11638   250000.0  30.0    5724.000000     6729.0     4973.0     9693.0   \n",
       "8      4761   320000.0  36.0   29862.000000    33785.0     4900.0    15813.0   \n",
       "9      6746   300000.0  35.0   91282.000000    45885.0    35329.0    29368.0   \n",
       "10    26203   500000.0  41.0     719.000000     1550.0      -50.0      -50.0   \n",
       "11    16128    90000.0  32.0     573.000000        0.0        0.0        0.0   \n",
       "12     2757    80000.0  29.0   59520.000000    60492.0    62160.0    64714.0   \n",
       "13    21491    30000.0  24.0   28218.000000    28704.0    30428.0    28914.0   \n",
       "14    29787   100000.0  41.0   77208.000000    75377.0    77044.0    78333.0   \n",
       "\n",
       "    BILL_AMT5  BILL_AMT6  PAY_AMT1  ...  Min_Bill       avg_pay  \\\n",
       "0     26134.0    26715.0    1700.0  ...   23149.0   1533.333333   \n",
       "1    128112.0   115514.0    5000.0  ...  115514.0   4158.000000   \n",
       "2     28607.0    27997.0    1378.0  ...   21387.0   1617.833333   \n",
       "3     61298.0    62193.0    4200.0  ...   61298.0   2781.166667   \n",
       "4         0.0        0.0    3000.0  ...       0.0    666.666667   \n",
       "5     19609.0    19283.0    1700.0  ...   19105.0   1233.333333   \n",
       "6     19584.0    19080.0    1762.0  ...   19080.0   1516.500000   \n",
       "7       799.0     4295.0    2000.0  ...     799.0   2221.666667   \n",
       "8         0.0        0.0    5000.0  ...       0.0   7905.833333   \n",
       "9     18833.0    93329.0    3260.0  ...   18833.0  15314.833333   \n",
       "10    10037.0       79.0    1558.0  ...     -50.0   2032.500000   \n",
       "11        0.0        0.0     157.0  ...       0.0     26.166667   \n",
       "12    62420.0    62990.0    2753.0  ...   59520.0   3827.500000   \n",
       "13    29357.0    29955.0    2000.0  ...   28218.0   1550.000000   \n",
       "14    78130.0    77761.0       0.0  ...   75377.0   2518.500000   \n",
       "\n",
       "         avg_bill   avg_dly  Max_dly  Min_dly  Limit_Bal_Max_Bill  \\\n",
       "0    29916.166667  0.000000      0.0      0.0            1.296945   \n",
       "1   149297.333333  1.000000      2.0      0.0            2.106833   \n",
       "2    24981.500000  0.333333      2.0      0.0            2.097315   \n",
       "3    83108.666667  0.000000      0.0      0.0            1.270221   \n",
       "4     3890.000000  0.666667      2.0     -2.0            4.800307   \n",
       "5    19977.166667  0.000000      0.0      0.0            0.940911   \n",
       "6    40274.186954  0.333333      2.0      0.0            0.971553   \n",
       "7     5368.833333  0.000000      2.0     -1.0           25.789148   \n",
       "8    14060.000000 -2.000000     -2.0     -2.0            9.471379   \n",
       "9    52337.666667  0.000000      0.0      0.0            3.214401   \n",
       "10    2047.500000 -1.166667     -1.0     -2.0           49.810719   \n",
       "11      95.500000 -2.000000     -2.0     -2.0          156.794425   \n",
       "12   62049.333333  0.666667      2.0      0.0            1.236189   \n",
       "13   29262.666667  0.333333      2.0      0.0            0.985902   \n",
       "14   77308.833333  0.500000      2.0      0.0            1.276585   \n",
       "\n",
       "    Limit_Bal_Avg_Bill  Limit_Bal_Max_Avg  Avg_Payment_%  \n",
       "0             2.339794           0.554299      19.510543  \n",
       "1             2.612219           0.806530      35.906045  \n",
       "2             2.401681           0.873270      15.441331  \n",
       "3             1.684521           0.754055      29.882663  \n",
       "4            12.850167           0.373560       5.835000  \n",
       "5             1.001093           0.939884      16.197703  \n",
       "6             1.241459           0.782590      26.557327  \n",
       "7            46.556380           0.553934       2.416579  \n",
       "8            22.757983           0.416178       1.778434  \n",
       "9             5.731900           0.560791       3.417449  \n",
       "10          244.081035           0.204075       1.007380  \n",
       "11          932.642487           0.168118       3.649682  \n",
       "12            1.289276           0.958825      16.211452  \n",
       "13            1.025162           0.961703      18.879140  \n",
       "14            1.293497           0.986926      30.696380  \n",
       "\n",
       "[15 rows x 66 columns]"
      ]
     },
     "execution_count": 29,
     "metadata": {},
     "output_type": "execute_result"
    }
   ],
   "source": [
    "train.head(15)"
   ]
  },
  {
   "cell_type": "code",
   "execution_count": 30,
   "id": "3dca1209",
   "metadata": {},
   "outputs": [
    {
     "data": {
      "text/plain": [
       "Index(['cust_id', 'LIMIT_BAL', 'AGE', 'BILL_AMT1', 'BILL_AMT2', 'BILL_AMT3',\n",
       "       'BILL_AMT4', 'BILL_AMT5', 'BILL_AMT6', 'PAY_AMT1', 'PAY_AMT2',\n",
       "       'PAY_AMT3', 'PAY_AMT4', 'PAY_AMT5', 'PAY_AMT6', 'PAY_0', 'PAY_2',\n",
       "       'PAY_3', 'PAY_4', 'PAY_5', 'PAY_6', 'SEX', 'EDUCATION', 'MARRIAGE',\n",
       "       'C_PAY_0', 'C_PAY_2', 'C_PAY_3', 'C_PAY_4', 'C_PAY_5', 'C_PAY_6',\n",
       "       'default.payment.next.month', 'LIMIT_BAL_na', 'AGE_na', 'BILL_AMT1_na',\n",
       "       'BILL_AMT2_na', 'BILL_AMT3_na', 'BILL_AMT4_na', 'BILL_AMT5_na',\n",
       "       'BILL_AMT6_na', 'PAY_AMT1_na', 'PAY_AMT2_na', 'PAY_AMT3_na',\n",
       "       'PAY_AMT4_na', 'PAY_AMT5_na', 'PAY_AMT6_na', 'PAY_0_na', 'PAY_2_na',\n",
       "       'PAY_3_na', 'PAY_4_na', 'PAY_5_na', 'PAY_6_na', 'total_pay',\n",
       "       'Total_Bill', 'Max_Pay', 'Min_Pay', 'Max_Bill', 'Min_Bill', 'avg_pay',\n",
       "       'avg_bill', 'avg_dly', 'Max_dly', 'Min_dly', 'Limit_Bal_Max_Bill',\n",
       "       'Limit_Bal_Avg_Bill', 'Limit_Bal_Max_Avg', 'Avg_Payment_%'],\n",
       "      dtype='object')"
      ]
     },
     "execution_count": 30,
     "metadata": {},
     "output_type": "execute_result"
    }
   ],
   "source": [
    "train.columns"
   ]
  },
  {
   "cell_type": "code",
   "execution_count": 31,
   "id": "ab41ef7f",
   "metadata": {},
   "outputs": [
    {
     "data": {
      "text/plain": [
       "2"
      ]
     },
     "execution_count": 31,
     "metadata": {},
     "output_type": "execute_result"
    }
   ],
   "source": [
    "test.isna().sum().sum()"
   ]
  },
  {
   "cell_type": "code",
   "execution_count": 32,
   "id": "994440de",
   "metadata": {},
   "outputs": [
    {
     "data": {
      "text/plain": [
       "0"
      ]
     },
     "execution_count": 32,
     "metadata": {},
     "output_type": "execute_result"
    }
   ],
   "source": [
    "train.isna().sum().sum()"
   ]
  },
  {
   "cell_type": "code",
   "execution_count": 33,
   "id": "36e06d02",
   "metadata": {},
   "outputs": [
    {
     "data": {
      "text/html": [
       "<div>\n",
       "<style scoped>\n",
       "    .dataframe tbody tr th:only-of-type {\n",
       "        vertical-align: middle;\n",
       "    }\n",
       "\n",
       "    .dataframe tbody tr th {\n",
       "        vertical-align: top;\n",
       "    }\n",
       "\n",
       "    .dataframe thead th {\n",
       "        text-align: right;\n",
       "    }\n",
       "</style>\n",
       "<table border=\"1\" class=\"dataframe\">\n",
       "  <thead>\n",
       "    <tr style=\"text-align: right;\">\n",
       "      <th></th>\n",
       "      <th>cust_id</th>\n",
       "      <th>LIMIT_BAL</th>\n",
       "      <th>AGE</th>\n",
       "      <th>BILL_AMT1</th>\n",
       "      <th>BILL_AMT2</th>\n",
       "      <th>BILL_AMT3</th>\n",
       "      <th>BILL_AMT4</th>\n",
       "      <th>BILL_AMT5</th>\n",
       "      <th>BILL_AMT6</th>\n",
       "      <th>PAY_AMT1</th>\n",
       "      <th>...</th>\n",
       "      <th>Min_Bill</th>\n",
       "      <th>avg_pay</th>\n",
       "      <th>avg_bill</th>\n",
       "      <th>avg_dly</th>\n",
       "      <th>Max_dly</th>\n",
       "      <th>Min_dly</th>\n",
       "      <th>Limit_Bal_Max_Bill</th>\n",
       "      <th>Limit_Bal_Avg_Bill</th>\n",
       "      <th>Limit_Bal_Max_Avg</th>\n",
       "      <th>Avg_Payment_%</th>\n",
       "    </tr>\n",
       "  </thead>\n",
       "  <tbody>\n",
       "    <tr>\n",
       "      <th>24</th>\n",
       "      <td>1614</td>\n",
       "      <td>200000.0</td>\n",
       "      <td>42.0</td>\n",
       "      <td>0.0</td>\n",
       "      <td>0.0</td>\n",
       "      <td>0.0</td>\n",
       "      <td>0.0</td>\n",
       "      <td>0.0</td>\n",
       "      <td>0.0</td>\n",
       "      <td>0.0</td>\n",
       "      <td>...</td>\n",
       "      <td>0.0</td>\n",
       "      <td>110.833333</td>\n",
       "      <td>0.0</td>\n",
       "      <td>-2.000000</td>\n",
       "      <td>-2.0</td>\n",
       "      <td>-2.0</td>\n",
       "      <td>200000.0</td>\n",
       "      <td>200000.0</td>\n",
       "      <td>1.0</td>\n",
       "      <td>0.0</td>\n",
       "    </tr>\n",
       "    <tr>\n",
       "      <th>165</th>\n",
       "      <td>5015</td>\n",
       "      <td>200000.0</td>\n",
       "      <td>35.0</td>\n",
       "      <td>0.0</td>\n",
       "      <td>0.0</td>\n",
       "      <td>0.0</td>\n",
       "      <td>0.0</td>\n",
       "      <td>0.0</td>\n",
       "      <td>0.0</td>\n",
       "      <td>0.0</td>\n",
       "      <td>...</td>\n",
       "      <td>0.0</td>\n",
       "      <td>4671.166667</td>\n",
       "      <td>0.0</td>\n",
       "      <td>-1.500000</td>\n",
       "      <td>1.0</td>\n",
       "      <td>-2.0</td>\n",
       "      <td>200000.0</td>\n",
       "      <td>200000.0</td>\n",
       "      <td>1.0</td>\n",
       "      <td>0.0</td>\n",
       "    </tr>\n",
       "    <tr>\n",
       "      <th>221</th>\n",
       "      <td>9426</td>\n",
       "      <td>50000.0</td>\n",
       "      <td>22.0</td>\n",
       "      <td>0.0</td>\n",
       "      <td>0.0</td>\n",
       "      <td>0.0</td>\n",
       "      <td>0.0</td>\n",
       "      <td>0.0</td>\n",
       "      <td>0.0</td>\n",
       "      <td>0.0</td>\n",
       "      <td>...</td>\n",
       "      <td>0.0</td>\n",
       "      <td>0.000000</td>\n",
       "      <td>0.0</td>\n",
       "      <td>-1.500000</td>\n",
       "      <td>1.0</td>\n",
       "      <td>-2.0</td>\n",
       "      <td>50000.0</td>\n",
       "      <td>50000.0</td>\n",
       "      <td>1.0</td>\n",
       "      <td>0.0</td>\n",
       "    </tr>\n",
       "    <tr>\n",
       "      <th>277</th>\n",
       "      <td>24017</td>\n",
       "      <td>130000.0</td>\n",
       "      <td>37.0</td>\n",
       "      <td>0.0</td>\n",
       "      <td>0.0</td>\n",
       "      <td>0.0</td>\n",
       "      <td>0.0</td>\n",
       "      <td>0.0</td>\n",
       "      <td>0.0</td>\n",
       "      <td>0.0</td>\n",
       "      <td>...</td>\n",
       "      <td>0.0</td>\n",
       "      <td>0.000000</td>\n",
       "      <td>0.0</td>\n",
       "      <td>-2.000000</td>\n",
       "      <td>-2.0</td>\n",
       "      <td>-2.0</td>\n",
       "      <td>130000.0</td>\n",
       "      <td>130000.0</td>\n",
       "      <td>1.0</td>\n",
       "      <td>0.0</td>\n",
       "    </tr>\n",
       "    <tr>\n",
       "      <th>302</th>\n",
       "      <td>12304</td>\n",
       "      <td>180000.0</td>\n",
       "      <td>39.0</td>\n",
       "      <td>0.0</td>\n",
       "      <td>0.0</td>\n",
       "      <td>0.0</td>\n",
       "      <td>0.0</td>\n",
       "      <td>0.0</td>\n",
       "      <td>0.0</td>\n",
       "      <td>0.0</td>\n",
       "      <td>...</td>\n",
       "      <td>0.0</td>\n",
       "      <td>0.000000</td>\n",
       "      <td>0.0</td>\n",
       "      <td>-1.500000</td>\n",
       "      <td>1.0</td>\n",
       "      <td>-2.0</td>\n",
       "      <td>180000.0</td>\n",
       "      <td>180000.0</td>\n",
       "      <td>1.0</td>\n",
       "      <td>0.0</td>\n",
       "    </tr>\n",
       "    <tr>\n",
       "      <th>...</th>\n",
       "      <td>...</td>\n",
       "      <td>...</td>\n",
       "      <td>...</td>\n",
       "      <td>...</td>\n",
       "      <td>...</td>\n",
       "      <td>...</td>\n",
       "      <td>...</td>\n",
       "      <td>...</td>\n",
       "      <td>...</td>\n",
       "      <td>...</td>\n",
       "      <td>...</td>\n",
       "      <td>...</td>\n",
       "      <td>...</td>\n",
       "      <td>...</td>\n",
       "      <td>...</td>\n",
       "      <td>...</td>\n",
       "      <td>...</td>\n",
       "      <td>...</td>\n",
       "      <td>...</td>\n",
       "      <td>...</td>\n",
       "      <td>...</td>\n",
       "    </tr>\n",
       "    <tr>\n",
       "      <th>19798</th>\n",
       "      <td>15577</td>\n",
       "      <td>340000.0</td>\n",
       "      <td>40.0</td>\n",
       "      <td>0.0</td>\n",
       "      <td>0.0</td>\n",
       "      <td>0.0</td>\n",
       "      <td>0.0</td>\n",
       "      <td>0.0</td>\n",
       "      <td>0.0</td>\n",
       "      <td>0.0</td>\n",
       "      <td>...</td>\n",
       "      <td>0.0</td>\n",
       "      <td>0.000000</td>\n",
       "      <td>0.0</td>\n",
       "      <td>-2.000000</td>\n",
       "      <td>-2.0</td>\n",
       "      <td>-2.0</td>\n",
       "      <td>340000.0</td>\n",
       "      <td>340000.0</td>\n",
       "      <td>1.0</td>\n",
       "      <td>0.0</td>\n",
       "    </tr>\n",
       "    <tr>\n",
       "      <th>19837</th>\n",
       "      <td>19899</td>\n",
       "      <td>120000.0</td>\n",
       "      <td>41.0</td>\n",
       "      <td>0.0</td>\n",
       "      <td>0.0</td>\n",
       "      <td>0.0</td>\n",
       "      <td>0.0</td>\n",
       "      <td>0.0</td>\n",
       "      <td>0.0</td>\n",
       "      <td>0.0</td>\n",
       "      <td>...</td>\n",
       "      <td>0.0</td>\n",
       "      <td>0.000000</td>\n",
       "      <td>0.0</td>\n",
       "      <td>-2.000000</td>\n",
       "      <td>-2.0</td>\n",
       "      <td>-2.0</td>\n",
       "      <td>120000.0</td>\n",
       "      <td>120000.0</td>\n",
       "      <td>1.0</td>\n",
       "      <td>0.0</td>\n",
       "    </tr>\n",
       "    <tr>\n",
       "      <th>19838</th>\n",
       "      <td>19353</td>\n",
       "      <td>150000.0</td>\n",
       "      <td>39.0</td>\n",
       "      <td>0.0</td>\n",
       "      <td>0.0</td>\n",
       "      <td>0.0</td>\n",
       "      <td>0.0</td>\n",
       "      <td>0.0</td>\n",
       "      <td>0.0</td>\n",
       "      <td>0.0</td>\n",
       "      <td>...</td>\n",
       "      <td>0.0</td>\n",
       "      <td>0.000000</td>\n",
       "      <td>0.0</td>\n",
       "      <td>-1.188447</td>\n",
       "      <td>1.0</td>\n",
       "      <td>-2.0</td>\n",
       "      <td>150000.0</td>\n",
       "      <td>150000.0</td>\n",
       "      <td>1.0</td>\n",
       "      <td>0.0</td>\n",
       "    </tr>\n",
       "    <tr>\n",
       "      <th>19853</th>\n",
       "      <td>11073</td>\n",
       "      <td>200000.0</td>\n",
       "      <td>46.0</td>\n",
       "      <td>0.0</td>\n",
       "      <td>0.0</td>\n",
       "      <td>0.0</td>\n",
       "      <td>0.0</td>\n",
       "      <td>0.0</td>\n",
       "      <td>0.0</td>\n",
       "      <td>0.0</td>\n",
       "      <td>...</td>\n",
       "      <td>0.0</td>\n",
       "      <td>0.000000</td>\n",
       "      <td>0.0</td>\n",
       "      <td>-2.000000</td>\n",
       "      <td>-2.0</td>\n",
       "      <td>-2.0</td>\n",
       "      <td>200000.0</td>\n",
       "      <td>200000.0</td>\n",
       "      <td>1.0</td>\n",
       "      <td>0.0</td>\n",
       "    </tr>\n",
       "    <tr>\n",
       "      <th>19973</th>\n",
       "      <td>25741</td>\n",
       "      <td>270000.0</td>\n",
       "      <td>45.0</td>\n",
       "      <td>0.0</td>\n",
       "      <td>0.0</td>\n",
       "      <td>0.0</td>\n",
       "      <td>0.0</td>\n",
       "      <td>0.0</td>\n",
       "      <td>0.0</td>\n",
       "      <td>0.0</td>\n",
       "      <td>...</td>\n",
       "      <td>0.0</td>\n",
       "      <td>0.000000</td>\n",
       "      <td>0.0</td>\n",
       "      <td>-2.000000</td>\n",
       "      <td>-2.0</td>\n",
       "      <td>-2.0</td>\n",
       "      <td>270000.0</td>\n",
       "      <td>270000.0</td>\n",
       "      <td>1.0</td>\n",
       "      <td>0.0</td>\n",
       "    </tr>\n",
       "  </tbody>\n",
       "</table>\n",
       "<p>569 rows × 66 columns</p>\n",
       "</div>"
      ],
      "text/plain": [
       "       cust_id  LIMIT_BAL   AGE  BILL_AMT1  BILL_AMT2  BILL_AMT3  BILL_AMT4  \\\n",
       "24        1614   200000.0  42.0        0.0        0.0        0.0        0.0   \n",
       "165       5015   200000.0  35.0        0.0        0.0        0.0        0.0   \n",
       "221       9426    50000.0  22.0        0.0        0.0        0.0        0.0   \n",
       "277      24017   130000.0  37.0        0.0        0.0        0.0        0.0   \n",
       "302      12304   180000.0  39.0        0.0        0.0        0.0        0.0   \n",
       "...        ...        ...   ...        ...        ...        ...        ...   \n",
       "19798    15577   340000.0  40.0        0.0        0.0        0.0        0.0   \n",
       "19837    19899   120000.0  41.0        0.0        0.0        0.0        0.0   \n",
       "19838    19353   150000.0  39.0        0.0        0.0        0.0        0.0   \n",
       "19853    11073   200000.0  46.0        0.0        0.0        0.0        0.0   \n",
       "19973    25741   270000.0  45.0        0.0        0.0        0.0        0.0   \n",
       "\n",
       "       BILL_AMT5  BILL_AMT6  PAY_AMT1  ...  Min_Bill      avg_pay  avg_bill  \\\n",
       "24           0.0        0.0       0.0  ...       0.0   110.833333       0.0   \n",
       "165          0.0        0.0       0.0  ...       0.0  4671.166667       0.0   \n",
       "221          0.0        0.0       0.0  ...       0.0     0.000000       0.0   \n",
       "277          0.0        0.0       0.0  ...       0.0     0.000000       0.0   \n",
       "302          0.0        0.0       0.0  ...       0.0     0.000000       0.0   \n",
       "...          ...        ...       ...  ...       ...          ...       ...   \n",
       "19798        0.0        0.0       0.0  ...       0.0     0.000000       0.0   \n",
       "19837        0.0        0.0       0.0  ...       0.0     0.000000       0.0   \n",
       "19838        0.0        0.0       0.0  ...       0.0     0.000000       0.0   \n",
       "19853        0.0        0.0       0.0  ...       0.0     0.000000       0.0   \n",
       "19973        0.0        0.0       0.0  ...       0.0     0.000000       0.0   \n",
       "\n",
       "        avg_dly  Max_dly  Min_dly  Limit_Bal_Max_Bill  Limit_Bal_Avg_Bill  \\\n",
       "24    -2.000000     -2.0     -2.0            200000.0            200000.0   \n",
       "165   -1.500000      1.0     -2.0            200000.0            200000.0   \n",
       "221   -1.500000      1.0     -2.0             50000.0             50000.0   \n",
       "277   -2.000000     -2.0     -2.0            130000.0            130000.0   \n",
       "302   -1.500000      1.0     -2.0            180000.0            180000.0   \n",
       "...         ...      ...      ...                 ...                 ...   \n",
       "19798 -2.000000     -2.0     -2.0            340000.0            340000.0   \n",
       "19837 -2.000000     -2.0     -2.0            120000.0            120000.0   \n",
       "19838 -1.188447      1.0     -2.0            150000.0            150000.0   \n",
       "19853 -2.000000     -2.0     -2.0            200000.0            200000.0   \n",
       "19973 -2.000000     -2.0     -2.0            270000.0            270000.0   \n",
       "\n",
       "       Limit_Bal_Max_Avg  Avg_Payment_%  \n",
       "24                   1.0            0.0  \n",
       "165                  1.0            0.0  \n",
       "221                  1.0            0.0  \n",
       "277                  1.0            0.0  \n",
       "302                  1.0            0.0  \n",
       "...                  ...            ...  \n",
       "19798                1.0            0.0  \n",
       "19837                1.0            0.0  \n",
       "19838                1.0            0.0  \n",
       "19853                1.0            0.0  \n",
       "19973                1.0            0.0  \n",
       "\n",
       "[569 rows x 66 columns]"
      ]
     },
     "execution_count": 33,
     "metadata": {},
     "output_type": "execute_result"
    }
   ],
   "source": [
    "train[train[\"Max_Bill\"] == 0].head(569)"
   ]
  },
  {
   "cell_type": "code",
   "execution_count": 34,
   "id": "5bd5b83e",
   "metadata": {},
   "outputs": [],
   "source": [
    "train.replace([np.inf, -np.inf], 0, inplace=True)\n",
    "test.replace([np.inf, -np.inf], 0, inplace=True)"
   ]
  },
  {
   "cell_type": "code",
   "execution_count": 35,
   "id": "19575731",
   "metadata": {},
   "outputs": [],
   "source": [
    "test = test.fillna(0)"
   ]
  },
  {
   "cell_type": "markdown",
   "id": "7d6ef51c",
   "metadata": {},
   "source": [
    "### Encoding Categorical Vairables"
   ]
  },
  {
   "cell_type": "code",
   "execution_count": 36,
   "id": "96235b9c",
   "metadata": {},
   "outputs": [],
   "source": [
    "# Encode categorical variables as integer values\n",
    "enc = OrdinalEncoder()\n",
    "enc.fit(pd.concat([train[cat_vars].astype(str), test[cat_vars].astype(str)], axis=0))\n",
    "# Apply on train, test\n",
    "train[cat_vars] = enc.transform(train[cat_vars].astype(str))\n",
    "test[cat_vars] = enc.transform(test[cat_vars].astype(str))"
   ]
  },
  {
   "cell_type": "code",
   "execution_count": 37,
   "id": "39eaf46a",
   "metadata": {},
   "outputs": [],
   "source": [
    "train[na_vars] = train[na_vars].astype(np.int8)\n",
    "test[na_vars] = test[na_vars].astype(np.int8)"
   ]
  },
  {
   "cell_type": "code",
   "execution_count": 38,
   "id": "4dd7b46c",
   "metadata": {},
   "outputs": [
    {
     "name": "stdout",
     "output_type": "stream",
     "text": [
      "# id_var [ 1 ] : ['cust_id']\n",
      "# num_vars [ 35 ] : ['LIMIT_BAL', 'AGE', 'BILL_AMT1', 'BILL_AMT2', 'BILL_AMT3'] ...\n",
      "# cat_vars [ 9 ] : ['SEX', 'EDUCATION', 'MARRIAGE', 'C_PAY_0', 'C_PAY_2'] ...\n",
      "# na_vars [ 20 ] : ['LIMIT_BAL_na', 'AGE_na', 'BILL_AMT1_na', 'BILL_AMT2_na', 'BILL_AMT3_na'] ...\n",
      "# target_var [ 1 ] : ['default.payment.next.month']\n"
     ]
    }
   ],
   "source": [
    "# List of numerical and catergorical variables\n",
    "num_vars = ['LIMIT_BAL', 'AGE','BILL_AMT1', 'BILL_AMT2', 'BILL_AMT3', 'BILL_AMT4', 'BILL_AMT5', 'BILL_AMT6',\n",
    "            'PAY_AMT1', 'PAY_AMT2', 'PAY_AMT3', 'PAY_AMT4', 'PAY_AMT5', 'PAY_AMT6', 'PAY_0', 'PAY_2', 'PAY_3',\n",
    "            'PAY_4', 'PAY_5', 'PAY_6','total_pay','Total_Bill', 'Max_Pay', 'Min_Pay', 'Max_Bill', 'Min_Bill', \n",
    "            'avg_pay','avg_bill', 'avg_dly', 'Max_dly', 'Min_dly', 'Limit_Bal_Max_Bill',\n",
    "            'Limit_Bal_Avg_Bill','Limit_Bal_Max_Avg', 'Avg_Payment_%' ]\n",
    "# Print out the final variables\n",
    "print(\"# id_var [\", len(id_var), \"] :\", id_var)\n",
    "print(\"# num_vars [\", len(num_vars), \"] :\", num_vars[:5], \"...\")\n",
    "print(\"# cat_vars [\", len(cat_vars), \"] :\", cat_vars[:5], \"...\")\n",
    "print(\"# na_vars [\", len(na_vars), \"] :\", na_vars[:5], \"...\")\n",
    "print(\"# target_var [\", len(target_var), \"] :\", target_var)"
   ]
  },
  {
   "cell_type": "code",
   "execution_count": 39,
   "id": "4570aee8",
   "metadata": {},
   "outputs": [
    {
     "data": {
      "text/plain": [
       "0"
      ]
     },
     "execution_count": 39,
     "metadata": {},
     "output_type": "execute_result"
    }
   ],
   "source": [
    "train.isna().sum().sum()"
   ]
  },
  {
   "cell_type": "code",
   "execution_count": 40,
   "id": "2ad1a211",
   "metadata": {},
   "outputs": [
    {
     "data": {
      "text/plain": [
       "0"
      ]
     },
     "execution_count": 40,
     "metadata": {},
     "output_type": "execute_result"
    }
   ],
   "source": [
    "test.isna().sum().sum()"
   ]
  },
  {
   "cell_type": "code",
   "execution_count": 41,
   "id": "8b7749d0",
   "metadata": {},
   "outputs": [],
   "source": [
    "# List of variables to track the value transformation process\n",
    "trans_vars = []"
   ]
  },
  {
   "cell_type": "code",
   "execution_count": 42,
   "id": "45196f39",
   "metadata": {},
   "outputs": [
    {
     "name": "stdout",
     "output_type": "stream",
     "text": [
      "Remapping variable SEX from 3 to 2 categories\n",
      "Remapping variable EDUCATION from 8 to 5 categories\n",
      "Remapping variable MARRIAGE from 5 to 2 categories\n",
      "Remapping variable C_PAY_0 from 12 to 7 categories\n",
      "Remapping variable C_PAY_2 from 12 to 6 categories\n",
      "Remapping variable C_PAY_3 from 12 to 6 categories\n",
      "Remapping variable C_PAY_4 from 12 to 6 categories\n",
      "Remapping variable C_PAY_5 from 11 to 5 categories\n",
      "Remapping variable C_PAY_6 from 11 to 5 categories\n"
     ]
    }
   ],
   "source": [
    "if enable_trans_cat_dt:\n",
    "    for v in cat_vars:\n",
    "        # Find the best decision tree using CV\n",
    "        cv = KFold(n_splits=20, random_state=1, shuffle=True)\n",
    "        model = DecisionTreeClassifier()\n",
    "        parameters = {'min_samples_leaf':(train.shape[0]*np.array([0.01,0.02,0.025,0.03,0.04,0.05,0.06,0.07,0.1,0.15,0.2,0.25,0.3,0.35,0.45,0.4,0.5])).astype(int)}\n",
    "        clf = GridSearchCV(model, parameters, scoring=\"roc_auc\", n_jobs=-1, cv=cv, verbose=0)\n",
    "        clf.fit(train[[v]], train[target_var])\n",
    "        # Remap the variable on train, test\n",
    "        if (clf.best_score_ > 0.5) & (clf.best_estimator_.get_n_leaves() > 1):\n",
    "            print(\"Remapping variable\", v,\n",
    "                  \"from\", train[[v]].nunique().values[0],\n",
    "                  \"to\", clf.best_estimator_.get_n_leaves(), \"categories\")\n",
    "            remap_var = v + '_remap'\n",
    "            trans_vars.append(remap_var)\n",
    "            train[remap_var] = [np.nonzero(r)[0].max() for r in clf.best_estimator_.decision_path(train[[v]]).toarray()]\n",
    "            test[remap_var] = [np.nonzero(r)[0].max() for r in clf.best_estimator_.decision_path(test[[v]]).toarray()]"
   ]
  },
  {
   "cell_type": "code",
   "execution_count": 43,
   "id": "26e07a1f",
   "metadata": {},
   "outputs": [
    {
     "name": "stdout",
     "output_type": "stream",
     "text": [
      "Discretize variable LIMIT_BAL from [10000.0, 1000000.0] to 20 categories\n",
      "Discretize variable AGE from [21.0, 75.0] to 7 categories\n",
      "Discretize variable BILL_AMT1 from [-165580.0, 964511.0] to 12 categories\n",
      "Discretize variable BILL_AMT2 from [-69777.0, 983931.0] to 11 categories\n",
      "Discretize variable BILL_AMT3 from [-61506.0, 1664089.0] to 75 categories\n",
      "Discretize variable BILL_AMT4 from [-170000.0, 891586.0] to 35 categories\n",
      "Discretize variable BILL_AMT5 from [-81334.0, 927171.0] to 22 categories\n",
      "Discretize variable BILL_AMT6 from [-339603.0, 961664.0] to 13 categories\n",
      "Discretize variable PAY_AMT1 from [0.0, 505000.0] to 25 categories\n",
      "Discretize variable PAY_AMT2 from [0.0, 1684259.0] to 8 categories\n",
      "Discretize variable PAY_AMT3 from [0.0, 896040.0] to 30 categories\n",
      "Discretize variable PAY_AMT4 from [0.0, 528897.0] to 11 categories\n",
      "Discretize variable PAY_AMT5 from [0.0, 388071.0] to 7 categories\n",
      "Discretize variable PAY_AMT6 from [0.0, 528666.0] to 20 categories\n",
      "Discretize variable PAY_0 from [-2.0, 8.0] to 6 categories\n",
      "Discretize variable PAY_2 from [-2.0, 8.0] to 6 categories\n",
      "Discretize variable PAY_3 from [-2.0, 8.0] to 6 categories\n",
      "Discretize variable PAY_4 from [-2.0, 8.0] to 5 categories\n",
      "Discretize variable PAY_5 from [-2.0, 8.0] to 5 categories\n",
      "Discretize variable PAY_6 from [-2.0, 8.0] to 5 categories\n",
      "Discretize variable total_pay from [0.0, 2314152.0] to 15 categories\n",
      "Discretize variable Total_Bill from [-336259.0, 5263883.0] to 7 categories\n",
      "Discretize variable Max_Pay from [0.0, 1684259.0] to 18 categories\n",
      "Discretize variable Min_Pay from [0.0, 50000.0] to 5 categories\n",
      "Discretize variable Max_Bill from [-6029.0, 1664089.0] to 26 categories\n",
      "Discretize variable Min_Bill from [-339603.0, 551702.0] to 15 categories\n",
      "Discretize variable avg_pay from [0.0, 385692.0] to 15 categories\n",
      "Discretize variable avg_bill from [-56043.166666666664, 877313.8333333334] to 7 categories\n",
      "Discretize variable avg_dly from [-2.0, 6.0] to 15 categories\n",
      "Discretize variable Max_dly from [-2.0, 8.0] to 6 categories\n",
      "Discretize variable Min_dly from [-2.0, 4.0] to 7 categories\n",
      "Discretize variable Limit_Bal_Max_Bill from [-350000.0, 500000.0] to 21 categories\n",
      "Discretize variable Limit_Bal_Avg_Bill from [-539999.9999999999, 500000.0] to 8 categories\n",
      "Discretize variable Limit_Bal_Max_Avg from [-11628.5, 314.3333333333333] to 18 categories\n",
      "Discretize variable Avg_Payment_% from [-3914.6666666666665, 62043.13333333334] to 19 categories\n"
     ]
    }
   ],
   "source": [
    "if enable_trans_num_dt:\n",
    "    for v in num_vars:\n",
    "        # Find the best decision tree using CV\n",
    "        cv = KFold(n_splits=20, random_state=1, shuffle=True)\n",
    "        model = DecisionTreeClassifier()\n",
    "        parameters = {'min_samples_leaf':(train.shape[0]*np.array([0.01,0.02,0.025,0.03,0.04,0.05,0.06,0.07,0.1,0.15,0.2,0.25,0.3,0.35,0.45,0.4,0.5])).astype(int)}\n",
    "        clf = GridSearchCV(model, parameters, scoring=\"roc_auc\", n_jobs=-1, cv=cv, verbose=0)\n",
    "        clf.fit(train[[v]], train[target_var])\n",
    "        # Remap the variable on train, test\n",
    "        if (clf.best_score_ > 0.5) & (clf.best_estimator_.get_n_leaves() > 1):\n",
    "            print(\"Discretize variable\", v,\n",
    "                  \"from\", [train[[v]].min().values[0], train[[v]].max().values[0]],\n",
    "                  \"to\", clf.best_estimator_.get_n_leaves(), \"categories\")\n",
    "            remap_var = v + '_bin'\n",
    "            trans_vars.append(remap_var)\n",
    "            train[remap_var] = [np.nonzero(r)[0].max() for r in clf.best_estimator_.decision_path(train[[v]]).toarray()]\n",
    "            test[remap_var] = [np.nonzero(r)[0].max() for r in clf.best_estimator_.decision_path(test[[v]]).toarray()]"
   ]
  },
  {
   "cell_type": "code",
   "execution_count": 44,
   "id": "2a0558e9",
   "metadata": {},
   "outputs": [
    {
     "name": "stderr",
     "output_type": "stream",
     "text": [
      "C:\\Users\\kamal\\anaconda3\\lib\\site-packages\\sklearn\\preprocessing\\_discretization.py:230: UserWarning: Bins whose width are too small (i.e., <= 1e-8) in feature 0 are removed. Consider decreasing the number of bins.\n",
      "  warnings.warn(\n",
      "C:\\Users\\kamal\\anaconda3\\lib\\site-packages\\sklearn\\preprocessing\\_discretization.py:230: UserWarning: Bins whose width are too small (i.e., <= 1e-8) in feature 0 are removed. Consider decreasing the number of bins.\n",
      "  warnings.warn(\n",
      "C:\\Users\\kamal\\anaconda3\\lib\\site-packages\\sklearn\\preprocessing\\_discretization.py:230: UserWarning: Bins whose width are too small (i.e., <= 1e-8) in feature 0 are removed. Consider decreasing the number of bins.\n",
      "  warnings.warn(\n",
      "C:\\Users\\kamal\\anaconda3\\lib\\site-packages\\sklearn\\preprocessing\\_discretization.py:230: UserWarning: Bins whose width are too small (i.e., <= 1e-8) in feature 0 are removed. Consider decreasing the number of bins.\n",
      "  warnings.warn(\n",
      "C:\\Users\\kamal\\anaconda3\\lib\\site-packages\\sklearn\\preprocessing\\_discretization.py:230: UserWarning: Bins whose width are too small (i.e., <= 1e-8) in feature 0 are removed. Consider decreasing the number of bins.\n",
      "  warnings.warn(\n",
      "C:\\Users\\kamal\\anaconda3\\lib\\site-packages\\sklearn\\preprocessing\\_discretization.py:230: UserWarning: Bins whose width are too small (i.e., <= 1e-8) in feature 0 are removed. Consider decreasing the number of bins.\n",
      "  warnings.warn(\n",
      "C:\\Users\\kamal\\anaconda3\\lib\\site-packages\\sklearn\\preprocessing\\_discretization.py:230: UserWarning: Bins whose width are too small (i.e., <= 1e-8) in feature 0 are removed. Consider decreasing the number of bins.\n",
      "  warnings.warn(\n",
      "C:\\Users\\kamal\\anaconda3\\lib\\site-packages\\sklearn\\preprocessing\\_discretization.py:230: UserWarning: Bins whose width are too small (i.e., <= 1e-8) in feature 0 are removed. Consider decreasing the number of bins.\n",
      "  warnings.warn(\n",
      "C:\\Users\\kamal\\anaconda3\\lib\\site-packages\\sklearn\\preprocessing\\_discretization.py:230: UserWarning: Bins whose width are too small (i.e., <= 1e-8) in feature 0 are removed. Consider decreasing the number of bins.\n",
      "  warnings.warn(\n",
      "C:\\Users\\kamal\\anaconda3\\lib\\site-packages\\sklearn\\preprocessing\\_discretization.py:230: UserWarning: Bins whose width are too small (i.e., <= 1e-8) in feature 0 are removed. Consider decreasing the number of bins.\n",
      "  warnings.warn(\n",
      "C:\\Users\\kamal\\anaconda3\\lib\\site-packages\\sklearn\\preprocessing\\_discretization.py:230: UserWarning: Bins whose width are too small (i.e., <= 1e-8) in feature 0 are removed. Consider decreasing the number of bins.\n",
      "  warnings.warn(\n",
      "C:\\Users\\kamal\\anaconda3\\lib\\site-packages\\sklearn\\preprocessing\\_discretization.py:230: UserWarning: Bins whose width are too small (i.e., <= 1e-8) in feature 0 are removed. Consider decreasing the number of bins.\n",
      "  warnings.warn(\n",
      "C:\\Users\\kamal\\anaconda3\\lib\\site-packages\\sklearn\\preprocessing\\_discretization.py:230: UserWarning: Bins whose width are too small (i.e., <= 1e-8) in feature 0 are removed. Consider decreasing the number of bins.\n",
      "  warnings.warn(\n",
      "C:\\Users\\kamal\\anaconda3\\lib\\site-packages\\sklearn\\preprocessing\\_discretization.py:230: UserWarning: Bins whose width are too small (i.e., <= 1e-8) in feature 0 are removed. Consider decreasing the number of bins.\n",
      "  warnings.warn(\n",
      "C:\\Users\\kamal\\anaconda3\\lib\\site-packages\\sklearn\\preprocessing\\_discretization.py:230: UserWarning: Bins whose width are too small (i.e., <= 1e-8) in feature 0 are removed. Consider decreasing the number of bins.\n",
      "  warnings.warn(\n",
      "C:\\Users\\kamal\\anaconda3\\lib\\site-packages\\sklearn\\preprocessing\\_discretization.py:230: UserWarning: Bins whose width are too small (i.e., <= 1e-8) in feature 0 are removed. Consider decreasing the number of bins.\n",
      "  warnings.warn(\n",
      "C:\\Users\\kamal\\anaconda3\\lib\\site-packages\\sklearn\\preprocessing\\_discretization.py:230: UserWarning: Bins whose width are too small (i.e., <= 1e-8) in feature 0 are removed. Consider decreasing the number of bins.\n",
      "  warnings.warn(\n"
     ]
    }
   ],
   "source": [
    "if enable_trans_num_ef:\n",
    "    for v in num_vars:\n",
    "        # Binning values of a variable\n",
    "        est = KBinsDiscretizer(n_bins=10, encode='ordinal', strategy='quantile')\n",
    "        est.fit(train[[v]])\n",
    "        # Bin the variable on train, test\n",
    "        if est.n_bins_[0] > 1:\n",
    "            binef_var = v + '_binef'\n",
    "            trans_vars.append(binef_var)\n",
    "            train[binef_var] = est.transform(train[[v]])\n",
    "            test[binef_var] = est.transform(test[[v]])"
   ]
  },
  {
   "cell_type": "code",
   "execution_count": 45,
   "id": "610dbb16",
   "metadata": {},
   "outputs": [],
   "source": [
    "if enable_trans_num_ew:\n",
    "    for v in num_vars:\n",
    "        # Binning values of a variable\n",
    "        est = KBinsDiscretizer(n_bins=10, encode='ordinal', strategy='uniform')\n",
    "        est.fit(train[[v]])\n",
    "        # Bin the variable on train, test\n",
    "        if est.n_bins_[0] > 1:\n",
    "            binew_var = v + '_binew'\n",
    "            trans_vars.append(binew_var)\n",
    "            train[binew_var] = est.transform(train[[v]])\n",
    "            test[binew_var] = est.transform(test[[v]])"
   ]
  },
  {
   "cell_type": "code",
   "execution_count": 46,
   "id": "85478c5e",
   "metadata": {},
   "outputs": [
    {
     "name": "stdout",
     "output_type": "stream",
     "text": [
      "Transformed num, cat variables into # new categorical variables : 114\n"
     ]
    }
   ],
   "source": [
    "cat_vars = cat_vars + trans_vars\n",
    "print(\"Transformed num, cat variables into # new categorical variables :\", len(trans_vars))"
   ]
  },
  {
   "cell_type": "code",
   "execution_count": 47,
   "id": "4d100ac3",
   "metadata": {},
   "outputs": [
    {
     "name": "stdout",
     "output_type": "stream",
     "text": [
      "(20000, 180)\n",
      "(10000, 179)\n"
     ]
    }
   ],
   "source": [
    "train = train[id_var + num_vars + cat_vars + na_vars + target_var]\n",
    "test = test[id_var + num_vars + cat_vars + na_vars]\n",
    "print(train.shape)\n",
    "print(test.shape)"
   ]
  },
  {
   "cell_type": "code",
   "execution_count": 48,
   "id": "97778756",
   "metadata": {},
   "outputs": [],
   "source": [
    "# List of variables to track the value representation process\n",
    "repr_vars = []\n",
    "dummy_vars = []"
   ]
  },
  {
   "cell_type": "code",
   "execution_count": 49,
   "id": "c29d881f",
   "metadata": {},
   "outputs": [],
   "source": [
    "if enable_repr_dummy:\n",
    "    # Create dummy variables, drop the first dummy column\n",
    "    enc = OneHotEncoder(drop=\"first\", handle_unknown=\"error\")\n",
    "    enc.fit(pd.concat([train[cat_vars], test[cat_vars]], axis=0))\n",
    "    dummy_vars = enc.get_feature_names_out().tolist()\n",
    "    repr_vars = repr_vars + dummy_vars\n",
    "    # Transform train, test\n",
    "    train_dummy = enc.transform(train[cat_vars])\n",
    "    test_dummy = enc.transform(test[cat_vars])"
   ]
  },
  {
   "cell_type": "code",
   "execution_count": 50,
   "id": "b86d50d4",
   "metadata": {},
   "outputs": [],
   "source": [
    "if enable_repr_icd:\n",
    "    for v in cat_vars:\n",
    "        # Find the incidence rates per category of a categorical variable\n",
    "        tb = pd.pivot_table(train, values=target_var, index=v, aggfunc=np.mean).reset_index()\n",
    "        icd_var = v + \"_icd\"\n",
    "        repr_vars.append(icd_var)\n",
    "        tb.columns = [v, icd_var]\n",
    "        # Add the incidence column to train, test\n",
    "        train[icd_var] = pd.merge(train[[v]], tb, on=v)[icd_var]\n",
    "        test[icd_var] = pd.merge(test[[v]], tb, on=v)[icd_var]"
   ]
  },
  {
   "cell_type": "code",
   "execution_count": 51,
   "id": "ec4e7fdd",
   "metadata": {},
   "outputs": [],
   "source": [
    "if enable_repr_woe:\n",
    "    for v in cat_vars:\n",
    "        # Find the WoE per category of a categorical variable\n",
    "        tb = train[[v] + target_var].value_counts().unstack(fill_value=0).reset_index()\n",
    "        woe_var = v + \"_woe\"\n",
    "        repr_vars.append(woe_var)\n",
    "        e = 1e-10  # Small value\n",
    "        tb[woe_var] = np.log((tb[1] + e) / (tb[0] + e))\n",
    "        # Add the incidence column to train, test\n",
    "        train[woe_var] = pd.merge(train[[v]], tb[[v, woe_var]], on=v)[woe_var]\n",
    "        test[woe_var] = pd.merge(test[[v]], tb[[v, woe_var]], on=v)[woe_var]"
   ]
  },
  {
   "cell_type": "code",
   "execution_count": 52,
   "id": "c1849c1b",
   "metadata": {},
   "outputs": [],
   "source": [
    "if drop_cat_vars:\n",
    "    train = train.drop(cat_vars, axis=1)\n",
    "    test = test.drop(cat_vars, axis=1)\n",
    "    cat_vars = []"
   ]
  },
  {
   "cell_type": "code",
   "execution_count": 53,
   "id": "da87685d",
   "metadata": {},
   "outputs": [],
   "source": [
    "if enable_repr_dummy:\n",
    "    train = pd.concat([train, pd.DataFrame(train_dummy.toarray(), columns=dummy_vars)], axis=1)\n",
    "    test = pd.concat([test, pd.DataFrame(test_dummy.toarray(), columns=dummy_vars)], axis=1)\n",
    "    del train_dummy, test_dummy"
   ]
  },
  {
   "cell_type": "code",
   "execution_count": 54,
   "id": "ac98ade4",
   "metadata": {},
   "outputs": [],
   "source": [
    "if len(repr_vars) > 0:\n",
    "    imp = SimpleImputer(missing_values=np.nan, strategy='mean', add_indicator=True)\n",
    "    imp.fit(train[repr_vars])\n",
    "    test[repr_vars] = pd.DataFrame(imp.transform(test[repr_vars]), columns=repr_vars)"
   ]
  },
  {
   "cell_type": "code",
   "execution_count": 55,
   "id": "f2af17ea",
   "metadata": {},
   "outputs": [
    {
     "name": "stdout",
     "output_type": "stream",
     "text": [
      "Represented cat variables with # new num variables : 1379\n"
     ]
    }
   ],
   "source": [
    "# Combine the variable list\n",
    "num_vars = num_vars + repr_vars\n",
    "print(\"Represented cat variables with # new num variables :\", len(repr_vars))"
   ]
  },
  {
   "cell_type": "code",
   "execution_count": 56,
   "id": "2e84a977",
   "metadata": {},
   "outputs": [
    {
     "name": "stdout",
     "output_type": "stream",
     "text": [
      "(20000, 1436)\n",
      "(10000, 1435)\n"
     ]
    }
   ],
   "source": [
    "train = train[id_var + num_vars + cat_vars + na_vars + target_var]\n",
    "test = test[id_var + num_vars + cat_vars + na_vars]\n",
    "print(train.shape)\n",
    "print(test.shape)"
   ]
  },
  {
   "cell_type": "markdown",
   "id": "2b8d6be0",
   "metadata": {},
   "source": [
    "#### Normalization"
   ]
  },
  {
   "cell_type": "code",
   "execution_count": 57,
   "id": "7279535e",
   "metadata": {},
   "outputs": [],
   "source": [
    "# TODO: More efficient implementation\n",
    "if enable_normalize:\n",
    "    for v in num_vars:\n",
    "        # Build the normalizer on train\n",
    "        scaler = MinMaxScaler().fit(train[[v]])\n",
    "        # Apply on train, test\n",
    "        train[v] = scaler.transform(train[[v]])\n",
    "        test[v] = scaler.transform(test[[v]])"
   ]
  },
  {
   "cell_type": "code",
   "execution_count": 58,
   "id": "b8ae7b25",
   "metadata": {},
   "outputs": [],
   "source": [
    "# List of all predictors\n",
    "predictors = num_vars + cat_vars + na_vars"
   ]
  },
  {
   "cell_type": "code",
   "execution_count": 59,
   "id": "42eb614c",
   "metadata": {},
   "outputs": [
    {
     "name": "stdout",
     "output_type": "stream",
     "text": [
      "Drop # constant vars : 12\n"
     ]
    }
   ],
   "source": [
    "sel = VarianceThreshold(0)  # Var = 0 by default\n",
    "sel.fit(train[predictors])\n",
    "const_vars = [predictors[i] for i in np.where(sel.variances_ == 0)[0]]\n",
    "predictors = [v for v in predictors if v not in const_vars]\n",
    "\n",
    "# Drop from train, test\n",
    "print('Drop # constant vars :', len(const_vars))\n",
    "train = train.drop(const_vars, axis=1)\n",
    "test = test.drop(const_vars, axis=1)"
   ]
  },
  {
   "cell_type": "markdown",
   "id": "2c38eea6",
   "metadata": {},
   "source": [
    "#### Dropping Duplicate Variables"
   ]
  },
  {
   "cell_type": "code",
   "execution_count": 60,
   "id": "ec30e749",
   "metadata": {},
   "outputs": [
    {
     "name": "stdout",
     "output_type": "stream",
     "text": [
      "# duplicated vars : 189\n"
     ]
    }
   ],
   "source": [
    "dup_vars = train[predictors].T.duplicated()\n",
    "print('# duplicated vars :', dup_vars.sum())"
   ]
  },
  {
   "cell_type": "code",
   "execution_count": 61,
   "id": "67e868bd",
   "metadata": {},
   "outputs": [],
   "source": [
    "predictors = [predictors[i] for i in range(0, len(predictors)) if not dup_vars[i]]\n",
    "train = train[id_var + predictors + target_var]\n",
    "test = test[id_var + predictors]"
   ]
  },
  {
   "cell_type": "code",
   "execution_count": null,
   "id": "98afaeb3",
   "metadata": {},
   "outputs": [],
   "source": [
    "train.to_csv(r'train_processed.csv', index = False)"
   ]
  },
  {
   "cell_type": "code",
   "execution_count": null,
   "id": "dc29700b",
   "metadata": {},
   "outputs": [],
   "source": [
    "test.to_csv(r'test_processed.csv', index = False)"
   ]
  },
  {
   "cell_type": "markdown",
   "id": "37ab7a47",
   "metadata": {},
   "source": [
    "### Variable Selection"
   ]
  },
  {
   "cell_type": "code",
   "execution_count": 62,
   "id": "b38feb22",
   "metadata": {},
   "outputs": [],
   "source": [
    "# Create several lists to handle variables\n",
    "id_var = ['cust_id']\n",
    "target_var = ['default.payment.next.month']\n",
    "predictors = [v for v in train.columns if v not in id_var + target_var]"
   ]
  },
  {
   "cell_type": "code",
   "execution_count": 63,
   "id": "5d0bf77f",
   "metadata": {},
   "outputs": [],
   "source": [
    "def FisherScore(bt, target_var, predictors):\n",
    "    \"\"\"\n",
    "    This function calculate the Fisher score of a variable.\n",
    "\n",
    "    Ref:\n",
    "    ---\n",
    "    Verbeke, W., Dejaeger, K., Martens, D., Hur, J., & Baesens, B. (2012). New insights\n",
    "    into churn prediction in the telecommunication sector: A profit driven data mining\n",
    "    approach. European Journal of Operational Research, 218(1), 211-229.\n",
    "    \"\"\"\n",
    "    \n",
    "    # Get the unique values of dependent variable\n",
    "    target_var_val = bt[target_var].unique()\n",
    "    # Calculate FisherScore for each predictor\n",
    "    predictor_FisherScore = []\n",
    "    for v in predictors:\n",
    "        fs = np.abs(np.mean(bt.loc[bt[target_var]==target_var_val[0], v]) - np.mean(bt.loc[bt[target_var]==target_var_val[1], v])) / \\\n",
    "             np.sqrt(np.var(bt.loc[bt[target_var]==target_var_val[0], v]) + np.var(bt.loc[bt[target_var]==target_var_val[1], v]))\n",
    "        predictor_FisherScore.append(fs)\n",
    "    return predictor_FisherScore"
   ]
  },
  {
   "cell_type": "code",
   "execution_count": 64,
   "id": "653ad940",
   "metadata": {},
   "outputs": [
    {
     "data": {
      "text/html": [
       "<div>\n",
       "<style scoped>\n",
       "    .dataframe tbody tr th:only-of-type {\n",
       "        vertical-align: middle;\n",
       "    }\n",
       "\n",
       "    .dataframe tbody tr th {\n",
       "        vertical-align: top;\n",
       "    }\n",
       "\n",
       "    .dataframe thead th {\n",
       "        text-align: right;\n",
       "    }\n",
       "</style>\n",
       "<table border=\"1\" class=\"dataframe\">\n",
       "  <thead>\n",
       "    <tr style=\"text-align: right;\">\n",
       "      <th></th>\n",
       "      <th>predictor</th>\n",
       "      <th>fisherscore</th>\n",
       "    </tr>\n",
       "  </thead>\n",
       "  <tbody>\n",
       "    <tr>\n",
       "      <th>772</th>\n",
       "      <td>Max_dly_binef_4.0</td>\n",
       "      <td>0.598941</td>\n",
       "    </tr>\n",
       "    <tr>\n",
       "      <th>704</th>\n",
       "      <td>PAY_0_binef_4.0</td>\n",
       "      <td>0.545005</td>\n",
       "    </tr>\n",
       "    <tr>\n",
       "      <th>29</th>\n",
       "      <td>Max_dly</td>\n",
       "      <td>0.534212</td>\n",
       "    </tr>\n",
       "    <tr>\n",
       "      <th>14</th>\n",
       "      <td>PAY_0</td>\n",
       "      <td>0.503262</td>\n",
       "    </tr>\n",
       "    <tr>\n",
       "      <th>706</th>\n",
       "      <td>PAY_2_binef_3.0</td>\n",
       "      <td>0.501998</td>\n",
       "    </tr>\n",
       "  </tbody>\n",
       "</table>\n",
       "</div>"
      ],
      "text/plain": [
       "             predictor  fisherscore\n",
       "772  Max_dly_binef_4.0     0.598941\n",
       "704    PAY_0_binef_4.0     0.545005\n",
       "29             Max_dly     0.534212\n",
       "14               PAY_0     0.503262\n",
       "706    PAY_2_binef_3.0     0.501998"
      ]
     },
     "execution_count": 64,
     "metadata": {},
     "output_type": "execute_result"
    }
   ],
   "source": [
    "# Calculate Fisher Score for all variable\n",
    "fs = FisherScore(train, target_var[0], predictors)\n",
    "fs_df = pd.DataFrame({\"predictor\":predictors, \"fisherscore\":fs})\n",
    "fs_df = fs_df.sort_values('fisherscore', ascending=False)\n",
    "fs_df.head()"
   ]
  },
  {
   "cell_type": "code",
   "execution_count": 65,
   "id": "bc7fa885",
   "metadata": {},
   "outputs": [
    {
     "name": "stdout",
     "output_type": "stream",
     "text": [
      "Added # top vars : 100\n",
      "Added # top vars : 200\n"
     ]
    },
    {
     "data": {
      "image/png": "[encoded data removed]",
      "text/plain": [
       "<Figure size 432x288 with 1 Axes>"
      ]
     },
     "metadata": {
      "needs_background": "light"
     },
     "output_type": "display_data"
    }
   ],
   "source": [
    "fs_scores = []\n",
    "top_n_vars = 200\n",
    "for i in range(1, top_n_vars+1):\n",
    "    if i % 100 == 0: print('Added # top vars :', i)\n",
    "    top_n_predictors = fs_df['predictor'][:i]\n",
    "    clf = LogisticRegression()\n",
    "    fs_scores.append(cross_validate(clf, train[top_n_predictors], train[target_var].values.squeeze(),\n",
    "                                    scoring='roc_auc', cv=5, verbose=0, n_jobs=-1, return_train_score=True))\n",
    "\n",
    "# How the AUC curve looks like when adding top vars\n",
    "plt.plot([s['train_score'].mean() for s in fs_scores], color='blue')\n",
    "plt.plot([s['test_score'].mean() for s in fs_scores], color='red')\n",
    "plt.xlabel('# vars')\n",
    "plt.ylabel('AUC')\n",
    "plt.legend(['train', 'test'])\n",
    "plt.show()"
   ]
  },
  {
   "cell_type": "markdown",
   "id": "6a625356",
   "metadata": {},
   "source": [
    "#### TOP 50 VARIABLES "
   ]
  },
  {
   "cell_type": "code",
   "execution_count": 66,
   "id": "f113b790",
   "metadata": {},
   "outputs": [
    {
     "name": "stdout",
     "output_type": "stream",
     "text": [
      "Selected # vars : 50\n"
     ]
    },
    {
     "data": {
      "text/plain": [
       "array(['Max_dly_binef_4.0', 'PAY_0_binef_4.0', 'Max_dly', 'PAY_0',\n",
       "       'PAY_2_binef_3.0', 'avg_dly_binef_7.0', 'C_PAY_0_4.0',\n",
       "       'Max_dly_bin_6', 'Max_dly_bin_9', 'C_PAY_2_4.0', 'PAY_3_binef_3.0',\n",
       "       'avg_dly', 'PAY_4_binef_3.0', 'C_PAY_3_remap_8', 'C_PAY_3_4.0',\n",
       "       'PAY_2', 'C_PAY_0_2.0', 'C_PAY_5_remap_7', 'C_PAY_4_remap_8',\n",
       "       'C_PAY_4_4.0', 'C_PAY_6_remap_7', 'PAY_3', 'avg_dly_bin_20',\n",
       "       'C_PAY_5_3.0', 'PAY_4', 'C_PAY_6_3.0', 'avg_dly_bin_28',\n",
       "       'avg_dly_binef_5.0', 'PAY_5', 'avg_dly_binew_2.0',\n",
       "       'Min_dly_bin_12', 'Min_dly_binew_6.0', 'avg_dly_binew_5.0',\n",
       "       'PAY_6', 'avg_dly_binew_3.0', 'C_PAY_2_remap_5', 'C_PAY_2_2.0',\n",
       "       'Max_dly_bin_10', 'LIMIT_BAL', 'Min_Pay', 'Min_dly',\n",
       "       'avg_dly_binew_4.0', 'avg_dly_bin_27', 'avg_pay', 'total_pay',\n",
       "       'avg_dly_bin_26', 'Max_dly_binew_5.0', 'avg_dly_binef_6.0',\n",
       "       'total_pay_binef_9.0', 'total_pay_bin_28'], dtype=object)"
      ]
     },
     "execution_count": 66,
     "metadata": {},
     "output_type": "execute_result"
    }
   ],
   "source": [
    "# Select the top variables based on Fisher Score\n",
    "n_top_fs_vars = 50  # Top FS vars\n",
    "top_fs_vars_50 = fs_df['predictor'].values[:n_top_fs_vars]\n",
    "print(\"Selected # vars :\", len(top_fs_vars_50))\n",
    "top_fs_vars_50"
   ]
  },
  {
   "cell_type": "code",
   "execution_count": 67,
   "id": "890ff067",
   "metadata": {},
   "outputs": [],
   "source": [
    "y = train[\"default.payment.next.month\"]\n",
    "X = train.drop(\"default.payment.next.month\", axis=1)"
   ]
  },
  {
   "cell_type": "code",
   "execution_count": 68,
   "id": "75ecea7a",
   "metadata": {},
   "outputs": [],
   "source": [
    "X = X[top_fs_vars_50]\n",
    "X_train, X_test, y_train, y_test = train_test_split(X, y, test_size=0.3, random_state=42)"
   ]
  },
  {
   "cell_type": "code",
   "execution_count": 69,
   "id": "60a18084",
   "metadata": {},
   "outputs": [],
   "source": [
    "tree = DecisionTreeClassifier()\n",
    "logistic = LogisticRegression(solver = \"lbfgs\")\n",
    "randomForest = RandomForestClassifier(n_estimators = 25, n_jobs=-1)\n",
    "neighbors = KNeighborsClassifier()\n",
    "boostedTree = GradientBoostingClassifier(n_estimators=100,random_state=0)\n",
    "\n",
    "models = {\"tree\" :tree,\n",
    "\"logistic\" :logistic,\n",
    "\"randomForest\" :randomForest,\n",
    "\"boostedTree\" :boostedTree,\n",
    "#\"neuralNet\" :neuralNet,\n",
    "\"neighbors\" :neighbors\n",
    "}"
   ]
  },
  {
   "cell_type": "code",
   "execution_count": 70,
   "id": "26868e45",
   "metadata": {},
   "outputs": [
    {
     "name": "stdout",
     "output_type": "stream",
     "text": [
      "tree has been trained successfully\n",
      "logistic has been trained successfully\n"
     ]
    },
    {
     "name": "stderr",
     "output_type": "stream",
     "text": [
      "C:\\Users\\kamal\\anaconda3\\lib\\site-packages\\sklearn\\linear_model\\_logistic.py:814: ConvergenceWarning: lbfgs failed to converge (status=1):\n",
      "STOP: TOTAL NO. of ITERATIONS REACHED LIMIT.\n",
      "\n",
      "Increase the number of iterations (max_iter) or scale the data as shown in:\n",
      "    https://scikit-learn.org/stable/modules/preprocessing.html\n",
      "Please also refer to the documentation for alternative solver options:\n",
      "    https://scikit-learn.org/stable/modules/linear_model.html#logistic-regression\n",
      "  n_iter_i = _check_optimize_result(\n"
     ]
    },
    {
     "name": "stdout",
     "output_type": "stream",
     "text": [
      "randomForest has been trained successfully\n",
      "boostedTree has been trained successfully\n",
      "neighbors has been trained successfully\n"
     ]
    }
   ],
   "source": [
    "from pandas import DataFrame\n",
    "from numpy import array\n",
    "\n",
    "for model in models:\n",
    "    models[model].fit(X_train, y_train)\n",
    "    print(f\"{model} has been trained successfully\")\n",
    "\n",
    "performances_train = {}\n",
    "performances_test = {}\n",
    "\n",
    "\n",
    "for model in models:\n",
    "    predictions = models[model].predict(X_train)\n",
    "    probabilities = DataFrame(models[model].predict_proba(X_train))[1]\n",
    "    accuracy = accuracy_score(y_train,predictions)\n",
    "    auc = roc_auc_score(array(y_train),array(probabilities))\n",
    "    performances_train[model] = {\"Accuracy\":accuracy,\"AUC\":auc}\n",
    "\n",
    "\n",
    "for model in models:\n",
    "    predictions = models[model].predict(X_test)\n",
    "    probabilities = DataFrame(models[model].predict_proba(X_test))[1]\n",
    "    accuracy = accuracy_score(y_test,predictions)\n",
    "    auc = roc_auc_score(array(y_test),array(probabilities))\n",
    "    performances_test[model] = {\"Accuracy\":accuracy,\"AUC\":auc}"
   ]
  },
  {
   "cell_type": "code",
   "execution_count": 71,
   "id": "cba464e7",
   "metadata": {},
   "outputs": [
    {
     "name": "stdout",
     "output_type": "stream",
     "text": [
      "{'tree': {'Accuracy': 0.9898571428571429, 'AUC': 0.9996209487985354}, 'logistic': {'Accuracy': 0.8155714285714286, 'AUC': 0.7606983172072104}, 'randomForest': {'Accuracy': 0.9864285714285714, 'AUC': 0.998146129272311}, 'boostedTree': {'Accuracy': 0.8257857142857142, 'AUC': 0.7924287121135263}, 'neighbors': {'Accuracy': 0.8417142857142857, 'AUC': 0.8747131759905827}}\n",
      "{'tree': {'Accuracy': 0.7238333333333333, 'AUC': 0.6131825690150624}, 'logistic': {'Accuracy': 0.8246666666666667, 'AUC': 0.7688229545494581}, 'randomForest': {'Accuracy': 0.7975, 'AUC': 0.7193515944852271}, 'boostedTree': {'Accuracy': 0.8245, 'AUC': 0.7752472618534502}, 'neighbors': {'Accuracy': 0.7963333333333333, 'AUC': 0.7112327077506222}}\n"
     ]
    }
   ],
   "source": [
    "print(performances_train)\n",
    "print(performances_test)"
   ]
  },
  {
   "cell_type": "markdown",
   "id": "f0c457c0",
   "metadata": {},
   "source": [
    "#### TOP 100 Variables "
   ]
  },
  {
   "cell_type": "code",
   "execution_count": 72,
   "id": "52ac7138",
   "metadata": {},
   "outputs": [
    {
     "name": "stdout",
     "output_type": "stream",
     "text": [
      "Selected # vars : 100\n"
     ]
    },
    {
     "data": {
      "text/plain": [
       "array(['Max_dly_binef_4.0', 'PAY_0_binef_4.0', 'Max_dly', 'PAY_0',\n",
       "       'PAY_2_binef_3.0', 'avg_dly_binef_7.0', 'C_PAY_0_4.0',\n",
       "       'Max_dly_bin_6', 'Max_dly_bin_9', 'C_PAY_2_4.0', 'PAY_3_binef_3.0',\n",
       "       'avg_dly', 'PAY_4_binef_3.0', 'C_PAY_3_remap_8', 'C_PAY_3_4.0',\n",
       "       'PAY_2', 'C_PAY_0_2.0', 'C_PAY_5_remap_7', 'C_PAY_4_remap_8',\n",
       "       'C_PAY_4_4.0', 'C_PAY_6_remap_7', 'PAY_3', 'avg_dly_bin_20',\n",
       "       'C_PAY_5_3.0', 'PAY_4', 'C_PAY_6_3.0', 'avg_dly_bin_28',\n",
       "       'avg_dly_binef_5.0', 'PAY_5', 'avg_dly_binew_2.0',\n",
       "       'Min_dly_bin_12', 'Min_dly_binew_6.0', 'avg_dly_binew_5.0',\n",
       "       'PAY_6', 'avg_dly_binew_3.0', 'C_PAY_2_remap_5', 'C_PAY_2_2.0',\n",
       "       'Max_dly_bin_10', 'LIMIT_BAL', 'Min_Pay', 'Min_dly',\n",
       "       'avg_dly_binew_4.0', 'avg_dly_bin_27', 'avg_pay', 'total_pay',\n",
       "       'avg_dly_bin_26', 'Max_dly_binew_5.0', 'avg_dly_binef_6.0',\n",
       "       'total_pay_binef_9.0', 'total_pay_bin_28', 'C_PAY_3_2.0',\n",
       "       'PAY_3_binef_2.0', 'Min_Pay_bin_7', 'Min_Pay_bin_8',\n",
       "       'PAY_AMT2_bin_14', 'PAY_0_bin_10', 'Min_Pay_binef_5.0',\n",
       "       'C_PAY_0_remap_11', 'PAY_4_bin_5', 'C_PAY_4_2.0',\n",
       "       'PAY_4_binef_2.0', 'Max_Pay_binef_9.0', 'C_PAY_0_3.0',\n",
       "       'C_PAY_0_5.0', 'PAY_AMT2_binef_8.0', 'Max_Pay',\n",
       "       'Min_Pay_binef_4.0', 'avg_dly_bin_24', 'Min_dly_binef_2.0',\n",
       "       'Limit_Bal_Max_Avg_bin_32', 'C_PAY_6_2.0', 'PAY_5_bin_5',\n",
       "       'C_PAY_5_2.0', 'PAY_AMT5_bin_12', 'avg_dly_binew_1.0',\n",
       "       'Limit_Bal_Max_Avg_binef_8.0', 'PAY_AMT6_binef_7.0', 'PAY_AMT1',\n",
       "       'PAY_AMT3_binef_8.0', 'Max_Pay_bin_34', 'C_PAY_2_remap_9',\n",
       "       'PAY_2_bin_10', 'Limit_Bal_Avg_Bill_bin_11', 'PAY_AMT5_binef_7.0',\n",
       "       'Limit_Bal_Max_Avg_bin_34', 'C_PAY_3_remap_9', 'PAY_5_bin_8',\n",
       "       'PAY_4_bin_8', 'PAY_3_binef_1.0', 'C_PAY_4_remap_9',\n",
       "       'Limit_Bal_Max_Avg_binef_9.0', 'LIMIT_BAL_bin_4', 'avg_dly_bin_21',\n",
       "       'PAY_3_bin_5', 'Min_dly_bin_4', 'PAY_AMT1_binef_8.0',\n",
       "       'Avg_Payment_%_binef_9.0', 'Min_Pay_binew_1.0', 'PAY_5_binef_2.0',\n",
       "       'Min_Pay_binef_3.0'], dtype=object)"
      ]
     },
     "execution_count": 72,
     "metadata": {},
     "output_type": "execute_result"
    }
   ],
   "source": [
    "# Select the top variables based on Fisher Score\n",
    "n_top_fs_vars = 100  # Top FS vars\n",
    "top_fs_vars = fs_df['predictor'].values[:n_top_fs_vars]\n",
    "print(\"Selected # vars :\", len(top_fs_vars))\n",
    "top_fs_vars"
   ]
  },
  {
   "cell_type": "code",
   "execution_count": 73,
   "id": "83fa7691",
   "metadata": {},
   "outputs": [],
   "source": [
    "y = train[\"default.payment.next.month\"]\n",
    "X = train.drop(\"default.payment.next.month\", axis=1)"
   ]
  },
  {
   "cell_type": "code",
   "execution_count": 74,
   "id": "59c914cf",
   "metadata": {},
   "outputs": [],
   "source": [
    "y1 = train[\"default.payment.next.month\"]\n",
    "X1 = train.drop(\"default.payment.next.month\", axis=1)"
   ]
  },
  {
   "cell_type": "code",
   "execution_count": 75,
   "id": "9b031245",
   "metadata": {},
   "outputs": [],
   "source": [
    "X = X[top_fs_vars]\n",
    "X_train, X_test, y_train, y_test = train_test_split(X, y, test_size=0.3, random_state=42)"
   ]
  },
  {
   "cell_type": "code",
   "execution_count": 76,
   "id": "17890b17",
   "metadata": {},
   "outputs": [],
   "source": [
    "tree = DecisionTreeClassifier()\n",
    "logistic = LogisticRegression(solver = \"lbfgs\")\n",
    "randomForest = RandomForestClassifier(n_estimators = 25, n_jobs=-1)\n",
    "neighbors = KNeighborsClassifier()\n",
    "boostedTree = GradientBoostingClassifier(n_estimators=100,random_state=0)\n",
    "\n",
    "models = {\"tree\" :tree,\n",
    "\"logistic\" :logistic,\n",
    "\"randomForest\" :randomForest,\n",
    "\"boostedTree\" :boostedTree,\n",
    "\"neighbors\" :neighbors\n",
    "}"
   ]
  },
  {
   "cell_type": "code",
   "execution_count": 77,
   "id": "7da63985",
   "metadata": {},
   "outputs": [
    {
     "name": "stdout",
     "output_type": "stream",
     "text": [
      "tree has been trained successfully\n"
     ]
    },
    {
     "name": "stderr",
     "output_type": "stream",
     "text": [
      "C:\\Users\\kamal\\anaconda3\\lib\\site-packages\\sklearn\\linear_model\\_logistic.py:814: ConvergenceWarning: lbfgs failed to converge (status=1):\n",
      "STOP: TOTAL NO. of ITERATIONS REACHED LIMIT.\n",
      "\n",
      "Increase the number of iterations (max_iter) or scale the data as shown in:\n",
      "    https://scikit-learn.org/stable/modules/preprocessing.html\n",
      "Please also refer to the documentation for alternative solver options:\n",
      "    https://scikit-learn.org/stable/modules/linear_model.html#logistic-regression\n",
      "  n_iter_i = _check_optimize_result(\n"
     ]
    },
    {
     "name": "stdout",
     "output_type": "stream",
     "text": [
      "logistic has been trained successfully\n",
      "randomForest has been trained successfully\n",
      "boostedTree has been trained successfully\n",
      "neighbors has been trained successfully\n"
     ]
    }
   ],
   "source": [
    "from pandas import DataFrame\n",
    "from numpy import array\n",
    "\n",
    "for model in models:\n",
    "    models[model].fit(X_train, y_train)\n",
    "    print(f\"{model} has been trained successfully\")\n",
    "\n",
    "performances_train1 = {}\n",
    "performances_test1 = {}\n",
    "\n",
    "\n",
    "for model in models:\n",
    "    predictions = models[model].predict(X_train)\n",
    "    probabilities = DataFrame(models[model].predict_proba(X_train))[1]\n",
    "    accuracy = accuracy_score(y_train,predictions)\n",
    "    auc = roc_auc_score(array(y_train),array(probabilities))\n",
    "    performances_train1[model] = {\"Accuracy\":accuracy,\"AUC\":auc}\n",
    "\n",
    "\n",
    "for model in models:\n",
    "    predictions = models[model].predict(X_test)\n",
    "    probabilities = DataFrame(models[model].predict_proba(X_test))[1]\n",
    "    accuracy = accuracy_score(y_test,predictions)\n",
    "    auc = roc_auc_score(array(y_test),array(probabilities))\n",
    "    performances_test1[model] = {\"Accuracy\":accuracy,\"AUC\":auc}"
   ]
  },
  {
   "cell_type": "markdown",
   "id": "05a47f6f",
   "metadata": {},
   "source": [
    "#### TOP 200 VARIABLES "
   ]
  },
  {
   "cell_type": "code",
   "execution_count": 78,
   "id": "a408c8fd",
   "metadata": {},
   "outputs": [
    {
     "name": "stdout",
     "output_type": "stream",
     "text": [
      "Selected # vars : 200\n"
     ]
    },
    {
     "data": {
      "text/plain": [
       "array(['Max_dly_binef_4.0', 'PAY_0_binef_4.0', 'Max_dly', 'PAY_0',\n",
       "       'PAY_2_binef_3.0', 'avg_dly_binef_7.0', 'C_PAY_0_4.0',\n",
       "       'Max_dly_bin_6', 'Max_dly_bin_9', 'C_PAY_2_4.0', 'PAY_3_binef_3.0',\n",
       "       'avg_dly', 'PAY_4_binef_3.0', 'C_PAY_3_remap_8', 'C_PAY_3_4.0',\n",
       "       'PAY_2', 'C_PAY_0_2.0', 'C_PAY_5_remap_7', 'C_PAY_4_remap_8',\n",
       "       'C_PAY_4_4.0', 'C_PAY_6_remap_7', 'PAY_3', 'avg_dly_bin_20',\n",
       "       'C_PAY_5_3.0', 'PAY_4', 'C_PAY_6_3.0', 'avg_dly_bin_28',\n",
       "       'avg_dly_binef_5.0', 'PAY_5', 'avg_dly_binew_2.0',\n",
       "       'Min_dly_bin_12', 'Min_dly_binew_6.0', 'avg_dly_binew_5.0',\n",
       "       'PAY_6', 'avg_dly_binew_3.0', 'C_PAY_2_remap_5', 'C_PAY_2_2.0',\n",
       "       'Max_dly_bin_10', 'LIMIT_BAL', 'Min_Pay', 'Min_dly',\n",
       "       'avg_dly_binew_4.0', 'avg_dly_bin_27', 'avg_pay', 'total_pay',\n",
       "       'avg_dly_bin_26', 'Max_dly_binew_5.0', 'avg_dly_binef_6.0',\n",
       "       'total_pay_binef_9.0', 'total_pay_bin_28', 'C_PAY_3_2.0',\n",
       "       'PAY_3_binef_2.0', 'Min_Pay_bin_7', 'Min_Pay_bin_8',\n",
       "       'PAY_AMT2_bin_14', 'PAY_0_bin_10', 'Min_Pay_binef_5.0',\n",
       "       'C_PAY_0_remap_11', 'PAY_4_bin_5', 'C_PAY_4_2.0',\n",
       "       'PAY_4_binef_2.0', 'Max_Pay_binef_9.0', 'C_PAY_0_3.0',\n",
       "       'C_PAY_0_5.0', 'PAY_AMT2_binef_8.0', 'Max_Pay',\n",
       "       'Min_Pay_binef_4.0', 'avg_dly_bin_24', 'Min_dly_binef_2.0',\n",
       "       'Limit_Bal_Max_Avg_bin_32', 'C_PAY_6_2.0', 'PAY_5_bin_5',\n",
       "       'C_PAY_5_2.0', 'PAY_AMT5_bin_12', 'avg_dly_binew_1.0',\n",
       "       'Limit_Bal_Max_Avg_binef_8.0', 'PAY_AMT6_binef_7.0', 'PAY_AMT1',\n",
       "       'PAY_AMT3_binef_8.0', 'Max_Pay_bin_34', 'C_PAY_2_remap_9',\n",
       "       'PAY_2_bin_10', 'Limit_Bal_Avg_Bill_bin_11', 'PAY_AMT5_binef_7.0',\n",
       "       'Limit_Bal_Max_Avg_bin_34', 'C_PAY_3_remap_9', 'PAY_5_bin_8',\n",
       "       'PAY_4_bin_8', 'PAY_3_binef_1.0', 'C_PAY_4_remap_9',\n",
       "       'Limit_Bal_Max_Avg_binef_9.0', 'LIMIT_BAL_bin_4', 'avg_dly_bin_21',\n",
       "       'PAY_3_bin_5', 'Min_dly_bin_4', 'PAY_AMT1_binef_8.0',\n",
       "       'Avg_Payment_%_binef_9.0', 'Min_Pay_binew_1.0', 'PAY_5_binef_2.0',\n",
       "       'Min_Pay_binef_3.0', 'PAY_2_bin_5', 'Avg_Payment_%_bin_36',\n",
       "       'PAY_AMT4', 'PAY_2_binef_1.0', 'PAY_5_bin_4',\n",
       "       'Limit_Bal_Avg_Bill_bin_12', 'C_PAY_2_5.0', 'PAY_AMT2',\n",
       "       'PAY_AMT4_binef_7.0', 'PAY_5_binef_1.0', 'Min_dly_binef_1.0',\n",
       "       'Limit_Bal_Max_Bill_binef_6.0', 'LIMIT_BAL_binef_9.0',\n",
       "       'Min_dly_bin_11', 'PAY_4_bin_4', 'C_PAY_0_1.0', 'PAY_AMT1_bin_48',\n",
       "       'LIMIT_BAL_binew_2.0', 'PAY_4_binef_1.0',\n",
       "       'Avg_Payment_%_binef_3.0', 'Limit_Bal_Avg_Bill_binef_6.0',\n",
       "       'avg_dly_binef_4.0', 'PAY_AMT4_bin_20', 'total_pay_binef_1.0',\n",
       "       'PAY_AMT5', 'Limit_Bal_Max_Bill', 'Min_Pay_bin_5', 'C_PAY_3_5.0',\n",
       "       'Avg_Payment_%_bin_7', 'Limit_Bal_Max_Bill_bin_4',\n",
       "       'Max_dly_binew_6.0', 'Limit_Bal_Avg_Bill',\n",
       "       'Limit_Bal_Avg_Bill_binef_7.0', 'PAY_6_bin_4', 'avg_dly_binef_2.0',\n",
       "       'total_pay_binef_8.0', 'LIMIT_BAL_binef_8.0', 'PAY_AMT1_binef_7.0',\n",
       "       'Max_Pay_binef_8.0', 'total_pay_bin_8', 'avg_dly_binef_3.0',\n",
       "       'Limit_Bal_Max_Avg_bin_12', 'PAY_AMT3_bin_57', 'PAY_6_binef_1.0',\n",
       "       'Limit_Bal_Avg_Bill_binef_5.0', 'Avg_Payment_%_binef_1.0',\n",
       "       'PAY_AMT6', 'Max_Pay_bin_33', 'Avg_Payment_%_binef_2.0',\n",
       "       'PAY_AMT6_bin_37', 'LIMIT_BAL_binew_4.0',\n",
       "       'Limit_Bal_Max_Bill_binew_4.0', 'Limit_Bal_Avg_Bill_binef_1.0',\n",
       "       'PAY_0_bin_5', 'PAY_AMT3', 'C_PAY_6_4.0',\n",
       "       'Limit_Bal_Max_Avg_binef_2.0', 'LIMIT_BAL_binew_3.0',\n",
       "       'LIMIT_BAL_bin_38', 'Limit_Bal_Avg_Bill_binew_5.0',\n",
       "       'PAY_AMT3_bin_42', 'Max_dly_bin_5', 'Limit_Bal_Max_Avg_binef_7.0',\n",
       "       'PAY_AMT2_bin_13', 'Min_Pay_bin_4', 'Limit_Bal_Max_Avg_binef_1.0',\n",
       "       'Max_Pay_bin_32', 'PAY_AMT4_binef_6.0', 'Avg_Payment_%_bin_15',\n",
       "       'total_pay_bin_23', 'PAY_AMT1_bin_44', 'C_PAY_5_4.0',\n",
       "       'Limit_Bal_Max_Bill_binef_7.0', 'total_pay_binef_2.0',\n",
       "       'Limit_Bal_Max_Bill_bin_29', 'PAY_AMT6_binef_6.0',\n",
       "       'PAY_AMT1_binef_6.0', 'total_pay_bin_26', 'EDUCATION_remap_7',\n",
       "       'LIMIT_BAL_binef_7.0', 'Limit_Bal_Max_Avg_bin_30',\n",
       "       'PAY_AMT1_bin_34', 'avg_dly_bin_12', 'Limit_Bal_Max_Bill_bin_40',\n",
       "       'PAY_AMT2_binef_7.0', 'Limit_Bal_Avg_Bill_binew_8.0',\n",
       "       'Max_dly_binew_9.0', 'PAY_AMT4_bin_18', 'C_PAY_4_5.0',\n",
       "       'BILL_AMT5_bin_14', 'Limit_Bal_Max_Bill_binew_8.0',\n",
       "       'LIMIT_BAL_bin_37', 'total_pay_bin_7', 'Min_Pay_binef_1.0',\n",
       "       'Limit_Bal_Max_Avg_binef_3.0', 'Limit_Bal_Max_Avg_bin_9',\n",
       "       'Min_Bill_bin_8', 'Limit_Bal_Max_Avg_bin_13', 'Min_Pay_binef_2.0',\n",
       "       'LIMIT_BAL_bin_34'], dtype=object)"
      ]
     },
     "execution_count": 78,
     "metadata": {},
     "output_type": "execute_result"
    }
   ],
   "source": [
    "# Select the top variables based on Fisher Score\n",
    "n_top_fs_vars = 200  # Top FS vars\n",
    "top_fs_vars_200 = fs_df['predictor'].values[:n_top_fs_vars]\n",
    "print(\"Selected # vars :\", len(top_fs_vars_200))\n",
    "top_fs_vars_200"
   ]
  },
  {
   "cell_type": "code",
   "execution_count": 79,
   "id": "c8f03fbe",
   "metadata": {},
   "outputs": [],
   "source": [
    "y = train[\"default.payment.next.month\"]\n",
    "X = train.drop(\"default.payment.next.month\", axis=1)"
   ]
  },
  {
   "cell_type": "code",
   "execution_count": 80,
   "id": "ade62b50",
   "metadata": {},
   "outputs": [],
   "source": [
    "X = X[top_fs_vars_200]\n",
    "X_train, X_test, y_train, y_test = train_test_split(X, y, test_size=0.3, random_state=42)"
   ]
  },
  {
   "cell_type": "code",
   "execution_count": 81,
   "id": "616a1d0f",
   "metadata": {},
   "outputs": [],
   "source": [
    "tree = DecisionTreeClassifier()\n",
    "logistic = LogisticRegression(solver = \"lbfgs\")\n",
    "randomForest = RandomForestClassifier(n_estimators = 25, n_jobs=-1)\n",
    "neighbors = KNeighborsClassifier()\n",
    "boostedTree = GradientBoostingClassifier(n_estimators=100,random_state=0)\n",
    "\n",
    "models = {\"tree\" :tree,\n",
    "\"logistic\" :logistic,\n",
    "\"randomForest\" :randomForest,\n",
    "\"boostedTree\" :boostedTree,\n",
    "\"neighbors\" :neighbors\n",
    "}"
   ]
  },
  {
   "cell_type": "code",
   "execution_count": 82,
   "id": "3d34ba57",
   "metadata": {},
   "outputs": [
    {
     "name": "stdout",
     "output_type": "stream",
     "text": [
      "tree has been trained successfully\n"
     ]
    },
    {
     "name": "stderr",
     "output_type": "stream",
     "text": [
      "C:\\Users\\kamal\\anaconda3\\lib\\site-packages\\sklearn\\linear_model\\_logistic.py:814: ConvergenceWarning: lbfgs failed to converge (status=1):\n",
      "STOP: TOTAL NO. of ITERATIONS REACHED LIMIT.\n",
      "\n",
      "Increase the number of iterations (max_iter) or scale the data as shown in:\n",
      "    https://scikit-learn.org/stable/modules/preprocessing.html\n",
      "Please also refer to the documentation for alternative solver options:\n",
      "    https://scikit-learn.org/stable/modules/linear_model.html#logistic-regression\n",
      "  n_iter_i = _check_optimize_result(\n"
     ]
    },
    {
     "name": "stdout",
     "output_type": "stream",
     "text": [
      "logistic has been trained successfully\n",
      "randomForest has been trained successfully\n",
      "boostedTree has been trained successfully\n",
      "neighbors has been trained successfully\n"
     ]
    }
   ],
   "source": [
    "from pandas import DataFrame\n",
    "from numpy import array\n",
    "\n",
    "for model in models:\n",
    "    models[model].fit(X_train, y_train)\n",
    "    print(f\"{model} has been trained successfully\")\n",
    "\n",
    "performances_train2 = {}\n",
    "performances_test2 = {}\n",
    "\n",
    "\n",
    "for model in models:\n",
    "    predictions = models[model].predict(X_train)\n",
    "    probabilities = DataFrame(models[model].predict_proba(X_train))[1]\n",
    "    accuracy = accuracy_score(y_train,predictions)\n",
    "    auc = roc_auc_score(array(y_train),array(probabilities))\n",
    "    performances_train2[model] = {\"Accuracy\":accuracy,\"AUC\":auc}\n",
    "\n",
    "\n",
    "for model in models:\n",
    "    predictions = models[model].predict(X_test)\n",
    "    probabilities = DataFrame(models[model].predict_proba(X_test))[1]\n",
    "    accuracy = accuracy_score(y_test,predictions)\n",
    "    auc = roc_auc_score(array(y_test),array(probabilities))\n",
    "    performances_test2[model] = {\"Accuracy\":accuracy,\"AUC\":auc}"
   ]
  },
  {
   "cell_type": "code",
   "execution_count": 83,
   "id": "e13a3c9a",
   "metadata": {},
   "outputs": [
    {
     "name": "stdout",
     "output_type": "stream",
     "text": [
      "{'tree': {'Accuracy': 0.9898571428571429, 'AUC': 0.9996209487985354}, 'logistic': {'Accuracy': 0.8155714285714286, 'AUC': 0.7606983172072104}, 'randomForest': {'Accuracy': 0.9864285714285714, 'AUC': 0.998146129272311}, 'boostedTree': {'Accuracy': 0.8257857142857142, 'AUC': 0.7924287121135263}, 'neighbors': {'Accuracy': 0.8417142857142857, 'AUC': 0.8747131759905827}}\n",
      "{'tree': {'Accuracy': 0.7238333333333333, 'AUC': 0.6131825690150624}, 'logistic': {'Accuracy': 0.8246666666666667, 'AUC': 0.7688229545494581}, 'randomForest': {'Accuracy': 0.7975, 'AUC': 0.7193515944852271}, 'boostedTree': {'Accuracy': 0.8245, 'AUC': 0.7752472618534502}, 'neighbors': {'Accuracy': 0.7963333333333333, 'AUC': 0.7112327077506222}}\n"
     ]
    }
   ],
   "source": [
    "print(performances_train)\n",
    "print(performances_test)"
   ]
  },
  {
   "cell_type": "code",
   "execution_count": 84,
   "id": "4a11f646",
   "metadata": {},
   "outputs": [
    {
     "name": "stdout",
     "output_type": "stream",
     "text": [
      "{'tree': {'Accuracy': 0.9914285714285714, 'AUC': 0.9997265694889094}, 'logistic': {'Accuracy': 0.8172857142857143, 'AUC': 0.7740202995167309}, 'randomForest': {'Accuracy': 0.988, 'AUC': 0.9986912554045898}, 'boostedTree': {'Accuracy': 0.826, 'AUC': 0.8025246592357427}, 'neighbors': {'Accuracy': 0.8429285714285715, 'AUC': 0.8778118376371997}}\n",
      "{'tree': {'Accuracy': 0.7295, 'AUC': 0.6211374198789819}, 'logistic': {'Accuracy': 0.8228333333333333, 'AUC': 0.7718594766916341}, 'randomForest': {'Accuracy': 0.8061666666666667, 'AUC': 0.7393145175301015}, 'boostedTree': {'Accuracy': 0.8255, 'AUC': 0.7789265137076616}, 'neighbors': {'Accuracy': 0.7966666666666666, 'AUC': 0.7193617760220283}}\n"
     ]
    }
   ],
   "source": [
    "print(performances_train1)\n",
    "print(performances_test1)"
   ]
  },
  {
   "cell_type": "code",
   "execution_count": 85,
   "id": "21d680fb",
   "metadata": {},
   "outputs": [
    {
     "name": "stdout",
     "output_type": "stream",
     "text": [
      "{'tree': {'Accuracy': 0.993, 'AUC': 0.9998272375875967}, 'logistic': {'Accuracy': 0.8195714285714286, 'AUC': 0.7869410922433844}, 'randomForest': {'Accuracy': 0.9906428571428572, 'AUC': 0.9989616461513218}, 'boostedTree': {'Accuracy': 0.8276428571428571, 'AUC': 0.8057435176135365}, 'neighbors': {'Accuracy': 0.842, 'AUC': 0.8752155823125336}}\n",
      "{'tree': {'Accuracy': 0.715, 'AUC': 0.6008591924166622}, 'logistic': {'Accuracy': 0.8221666666666667, 'AUC': 0.7769660830383516}, 'randomForest': {'Accuracy': 0.8106666666666666, 'AUC': 0.74888912160973}, 'boostedTree': {'Accuracy': 0.8278333333333333, 'AUC': 0.7779502174566165}, 'neighbors': {'Accuracy': 0.7921666666666667, 'AUC': 0.7235666699150618}}\n"
     ]
    }
   ],
   "source": [
    "print(performances_train2)\n",
    "print(performances_test2)"
   ]
  },
  {
   "cell_type": "code",
   "execution_count": 86,
   "id": "dd2a6b4a",
   "metadata": {},
   "outputs": [],
   "source": [
    "df1 = pd.DataFrame.from_dict(performances_test1, orient='index').drop(\"Accuracy\",axis=1)\n",
    "df1 = df1.rename(columns={\"AUC\": \"Top 100 Variables\"})\n",
    "\n",
    "df2 = pd.DataFrame.from_dict(performances_test, orient='index').drop(\"Accuracy\",axis=1)\n",
    "df2 = df2.rename(columns={\"AUC\": \"Top 50 Variables\"})\n",
    "\n",
    "df3 = pd.DataFrame.from_dict(performances_test2, orient='index').drop(\"Accuracy\",axis=1)\n",
    "df3 = df3.rename(columns={\"AUC\": \"Top 200 Variables\"})"
   ]
  },
  {
   "cell_type": "code",
   "execution_count": 87,
   "id": "8a509e0f",
   "metadata": {},
   "outputs": [
    {
     "data": {
      "text/html": [
       "<div>\n",
       "<style scoped>\n",
       "    .dataframe tbody tr th:only-of-type {\n",
       "        vertical-align: middle;\n",
       "    }\n",
       "\n",
       "    .dataframe tbody tr th {\n",
       "        vertical-align: top;\n",
       "    }\n",
       "\n",
       "    .dataframe thead th {\n",
       "        text-align: right;\n",
       "    }\n",
       "</style>\n",
       "<table border=\"1\" class=\"dataframe\">\n",
       "  <thead>\n",
       "    <tr style=\"text-align: right;\">\n",
       "      <th></th>\n",
       "      <th>Top 100 Variables</th>\n",
       "      <th>Top 50 Variables</th>\n",
       "      <th>Top 200 Variables</th>\n",
       "    </tr>\n",
       "  </thead>\n",
       "  <tbody>\n",
       "    <tr>\n",
       "      <th>tree</th>\n",
       "      <td>0.621137</td>\n",
       "      <td>0.613183</td>\n",
       "      <td>0.600859</td>\n",
       "    </tr>\n",
       "    <tr>\n",
       "      <th>logistic</th>\n",
       "      <td>0.771859</td>\n",
       "      <td>0.768823</td>\n",
       "      <td>0.776966</td>\n",
       "    </tr>\n",
       "    <tr>\n",
       "      <th>randomForest</th>\n",
       "      <td>0.739315</td>\n",
       "      <td>0.719352</td>\n",
       "      <td>0.748889</td>\n",
       "    </tr>\n",
       "    <tr>\n",
       "      <th>boostedTree</th>\n",
       "      <td>0.778927</td>\n",
       "      <td>0.775247</td>\n",
       "      <td>0.777950</td>\n",
       "    </tr>\n",
       "    <tr>\n",
       "      <th>neighbors</th>\n",
       "      <td>0.719362</td>\n",
       "      <td>0.711233</td>\n",
       "      <td>0.723567</td>\n",
       "    </tr>\n",
       "  </tbody>\n",
       "</table>\n",
       "</div>"
      ],
      "text/plain": [
       "              Top 100 Variables  Top 50 Variables  Top 200 Variables\n",
       "tree                   0.621137          0.613183           0.600859\n",
       "logistic               0.771859          0.768823           0.776966\n",
       "randomForest           0.739315          0.719352           0.748889\n",
       "boostedTree            0.778927          0.775247           0.777950\n",
       "neighbors              0.719362          0.711233           0.723567"
      ]
     },
     "execution_count": 87,
     "metadata": {},
     "output_type": "execute_result"
    }
   ],
   "source": [
    "feature_selection_comparison = pd.concat([df1, df2,df3], axis=1)\n",
    "feature_selection_comparison"
   ]
  },
  {
   "cell_type": "markdown",
   "id": "5638bdab",
   "metadata": {},
   "source": [
    "### Taking The top 100 Important variables "
   ]
  },
  {
   "cell_type": "code",
   "execution_count": null,
   "id": "bea49d13",
   "metadata": {},
   "outputs": [],
   "source": [
    "X = X[top_fs_vars]"
   ]
  },
  {
   "cell_type": "markdown",
   "id": "a028cdc1",
   "metadata": {},
   "source": [
    "### Cross Validation with K-Fold 5 For Top 3 Models "
   ]
  },
  {
   "cell_type": "code",
   "execution_count": null,
   "id": "5845c384",
   "metadata": {},
   "outputs": [],
   "source": [
    "#Logistic Regression\n",
    "cv_outer = KFold(n_splits=5, shuffle=True, random_state=1)\n",
    "# enumerate splits\n",
    "AUC_1 = list()\n",
    "AUC_2 = list()\n",
    "for train_ix, test_ix in cv_outer.split(X):\n",
    "    # split data\n",
    "    X_train, X_test, y_train, y_test = train_test_split(X, y, test_size=0.3, shuffle=True)\n",
    "    # configure the cross-validation procedure\n",
    "    cv_inner = KFold(n_splits=3, shuffle=True, random_state=1)\n",
    "    # define the model\n",
    "    model = LogisticRegression(solver = \"lbfgs\")\n",
    "    # define search space\n",
    "    space = dict()\n",
    "    # define search\n",
    "    search = GridSearchCV(model, space, scoring='roc_auc', cv=cv_inner, refit=True)\n",
    "    # execute search\n",
    "    result = search.fit(X_train, y_train)\n",
    "    # get the best performing model fit on the whole training set\n",
    "    best_model = result.best_estimator_\n",
    "    # evaluate model on the hold out dataset\n",
    "    auc_test =DataFrame(best_model.predict_proba(X_test))[1]\n",
    "    # evaluate the model\n",
    "    acc = roc_auc_score(array(y_test),array(auc_test))\n",
    "    # store the result\n",
    "    AUC_1.append(acc)\n",
    "    AUC_2.append(result.best_score_)\n",
    "    # report progress\n",
    "    print('>AUC=%.3f, est=%.3f, cfg=%s' % (acc, result.best_score_, result.best_params_))\n",
    "# summarize the estimated performance of the model\n",
    "print('AUC TEST MEAN: %.3f (%.3f)' % (mean(AUC_1), std(AUC_1)))\n",
    "print('AUC TRAIN MEAN: %.3f (%.3f)' % (mean(AUC_2), std(AUC_2)))"
   ]
  },
  {
   "cell_type": "code",
   "execution_count": null,
   "id": "1a153aaf",
   "metadata": {},
   "outputs": [],
   "source": [
    "#Random Forest\n",
    "cv_outer = KFold(n_splits=5, shuffle=True, random_state=1)\n",
    "# enumerate splits\n",
    "AUC_TEST = list()\n",
    "AUC_TRAIN = list()\n",
    "for train_ix, test_ix in cv_outer.split(X):\n",
    "    # split data\n",
    "    X_train, X_test, y_train, y_test = train_test_split(X, y, test_size=0.3, shuffle=True)\n",
    "    # configure the cross-validation procedure\n",
    "    cv_inner = KFold(n_splits=3, shuffle=True, random_state=1)\n",
    "    # define the model\n",
    "    model = RandomForestClassifier(random_state=1)\n",
    "    # define search space\n",
    "    space = dict()\n",
    "    space['n_estimators'] = [10, 100, 500]\n",
    "    space['max_features'] = [2, 4, 6]\n",
    "    # define search\n",
    "    search = GridSearchCV(model, space, scoring='roc_auc', cv=cv_inner, refit=True)\n",
    "    # execute search\n",
    "    result = search.fit(X_train, y_train)\n",
    "    # get the best performing model fit on the whole training set\n",
    "    best_model = result.best_estimator_\n",
    "    # evaluate model on the hold out dataset\n",
    "    auc_test =DataFrame(best_model.predict_proba(X_test))[1]\n",
    "    # evaluate the model\n",
    "    acc = roc_auc_score(array(y_test),array(auc_test))\n",
    "    # store the result\n",
    "    AUC_TEST.append(acc)\n",
    "    AUC_TRAIN.append(result.best_score_)\n",
    "    # report progress\n",
    "    print('>AUC=%.3f, est=%.3f, cfg=%s' % (acc, result.best_score_, result.best_params_))\n",
    "# summarize the estimated performance of the model\n",
    "print('AUC TEST MEAN: %.3f (%.3f)' % (mean(AUC_TEST), std(AUC_TEST)))\n",
    "print('AUC TRAIN MEAN: %.3f (%.3f)' % (mean(AUC_TRAIN), std(AUC_TRAIN)))"
   ]
  },
  {
   "cell_type": "code",
   "execution_count": null,
   "id": "230c867e",
   "metadata": {},
   "outputs": [],
   "source": [
    "#Gradient Boosted Tree \n",
    "cv_outer = KFold(n_splits=5, shuffle=True, random_state=1)\n",
    "# enumerate splits\n",
    "AUC_TEST_GB = list()\n",
    "AUC_TRAIN_GB = list()\n",
    "for train_ix, test_ix in cv_outer.split(X):\n",
    "    # split data\n",
    "    X_train, X_test, y_train, y_test = train_test_split(X, y, test_size=0.3, shuffle=True)\n",
    "    # configure the cross-validation procedure\n",
    "    cv_inner = KFold(n_splits=2, shuffle=True, random_state=1)\n",
    "    # define the model\n",
    "    model = GradientBoostingClassifier(random_state=1)\n",
    "    # define search space\n",
    "    space = dict()\n",
    "    space['n_estimators'] = [50,100,500,1000]\n",
    "    space['max_depth'] = [5,7,10,12,15]\n",
    "    space['learning_rate'] = [0.001,0.01,0.1]\n",
    "    # define search\n",
    "    search = GridSearchCV(model, space, scoring='roc_auc', cv=cv_inner, refit=True)\n",
    "    # execute search\n",
    "    result = search.fit(X_train, y_train)\n",
    "    # get the best performing model fit on the whole training set\n",
    "    best_model = result.best_estimator_\n",
    "    # evaluate model on the hold out dataset\n",
    "    auc_test =DataFrame(best_model.predict_proba(X_test))[1]\n",
    "    # evaluate the model\n",
    "    acc = roc_auc_score(array(y_test),array(auc_test))\n",
    "    # store the result\n",
    "    AUC_TEST_GB.append(acc)\n",
    "    AUC_TRAIN_GB.append(result.best_score_)\n",
    "    # report progress\n",
    "    print('>AUC=%.3f, est=%.3f, cfg=%s' % (acc, result.best_score_, result.best_params_))\n",
    "# summarize the estimated performance of the model\n",
    "print('AUC TEST MEAN: %.3f (%.3f)' % (mean(AUC_TEST_GB), std(AUC_TEST_GB)))\n",
    "print('AUC TRAIN MEAN: %.3f (%.3f)' % (mean(AUC_TRAIN_GB), std(AUC_TRAIN_GB)))"
   ]
  },
  {
   "cell_type": "markdown",
   "id": "4f0ff6d1",
   "metadata": {},
   "source": [
    "### Plotting Learning Curve"
   ]
  },
  {
   "cell_type": "code",
   "execution_count": null,
   "id": "a338ee7a",
   "metadata": {},
   "outputs": [],
   "source": [
    "def plot_learning_curve(\n",
    "    estimator,\n",
    "    title,\n",
    "    X,\n",
    "    y,\n",
    "    axes=None,\n",
    "    ylim=None,\n",
    "    cv=None,\n",
    "    n_jobs=None,\n",
    "    train_sizes=np.linspace(0.1, 1.0, 5),\n",
    "):\n",
    "   \n",
    "    if axes is None:\n",
    "        _, axes = plt.subplots(1, 2, figsize=(20, 5))\n",
    "\n",
    "    axes[0].set_title(title)\n",
    "    if ylim is not None:\n",
    "        axes[0].set_ylim(*ylim)\n",
    "    axes[0].set_xlabel(\"Training examples\")\n",
    "    axes[0].set_ylabel(\"Score\")\n",
    "\n",
    "    train_sizes, train_scores, test_scores, fit_times, _ = learning_curve(\n",
    "        estimator,\n",
    "        X,\n",
    "        y,\n",
    "        cv=cv,\n",
    "        n_jobs=n_jobs,\n",
    "        train_sizes=train_sizes,\n",
    "        return_times=True,\n",
    "    )\n",
    "    train_scores_mean = np.mean(train_scores, axis=1)\n",
    "    train_scores_std = np.std(train_scores, axis=1)\n",
    "    test_scores_mean = np.mean(test_scores, axis=1)\n",
    "    test_scores_std = np.std(test_scores, axis=1)\n",
    "    fit_times_mean = np.mean(fit_times, axis=1)\n",
    "    fit_times_std = np.std(fit_times, axis=1)\n",
    "\n",
    "    # Plot learning curve\n",
    "    axes[0].grid()\n",
    "    axes[0].fill_between(\n",
    "        train_sizes,\n",
    "        train_scores_mean - train_scores_std,\n",
    "        train_scores_mean + train_scores_std,\n",
    "        alpha=0.1,\n",
    "        color=\"r\",\n",
    "    )\n",
    "    axes[0].fill_between(\n",
    "        train_sizes,\n",
    "        test_scores_mean - test_scores_std,\n",
    "        test_scores_mean + test_scores_std,\n",
    "        alpha=0.1,\n",
    "        color=\"g\",\n",
    "    )\n",
    "    axes[0].plot(\n",
    "        train_sizes, train_scores_mean, \"o-\", color=\"r\", label=\"Training score\"\n",
    "    )\n",
    "    axes[0].plot(\n",
    "        train_sizes, test_scores_mean, \"o-\", color=\"g\", label=\"Cross-validation score\"\n",
    "    )\n",
    "    axes[0].legend(loc=\"best\")\n",
    "\n",
    "    # Plot fit_time vs score\n",
    "    fit_time_argsort = fit_times_mean.argsort()\n",
    "    fit_time_sorted = fit_times_mean[fit_time_argsort]\n",
    "    test_scores_mean_sorted = test_scores_mean[fit_time_argsort]\n",
    "    test_scores_std_sorted = test_scores_std[fit_time_argsort]\n",
    "    axes[1].grid()\n",
    "    axes[1].plot(fit_time_sorted, test_scores_mean_sorted, \"o-\")\n",
    "    axes[1].fill_between(\n",
    "        fit_time_sorted,\n",
    "        test_scores_mean_sorted - test_scores_std_sorted,\n",
    "        test_scores_mean_sorted + test_scores_std_sorted,\n",
    "        alpha=0.1,\n",
    "    )\n",
    "    axes[1].set_xlabel(\"fit_times\")\n",
    "    axes[1].set_ylabel(\"Score\")\n",
    "    axes[1].set_title(\"Performance of the model\")\n",
    "\n",
    "    return plt\n"
   ]
  },
  {
   "cell_type": "code",
   "execution_count": null,
   "id": "e4dffa35",
   "metadata": {},
   "outputs": [],
   "source": [
    "from sklearn.datasets import load_digits\n",
    "fig, axes = plt.subplots(2, figsize=(10, 15))\n",
    "\n",
    "X, y = load_digits(return_X_y=True)\n",
    "\n",
    "title = \"Learning Curves (GBM)\"\n",
    "estimator = GradientBoostingClassifier(n_estimators=500, max_depth =5, learning_rate = 0.01)\n",
    "plot_learning_curve(estimator, title, X, y, axes=axes[:,], cv=5, n_jobs=4)"
   ]
  },
  {
   "cell_type": "markdown",
   "id": "3db6f5e4",
   "metadata": {},
   "source": [
    "### Predicting Test For Kaggle Submission "
   ]
  },
  {
   "cell_type": "code",
   "execution_count": null,
   "id": "4cf1eade",
   "metadata": {},
   "outputs": [],
   "source": [
    "%%time\n",
    "GBT = GradientBoostingClassifier(n_estimators=500, learning_rate=0.01, max_depth = 5,random_state=1)\n",
    "\n",
    "# split in train and test data\n",
    "X_train, X_test, y_train, y_test = train_test_split(X, y, test_size=0.2, random_state=42)\n",
    "GBT.fit(X_train, y_train)\n",
    "\n",
    "# predict probabilities\n",
    "pred_train = GBT.predict(X_train)\n",
    "pred_test = GBT.predict(X_test)\n",
    "\n",
    "# evaluate predictions\n",
    "mlp_acc_train = accuracy_score(y_train, pred_train)\n",
    "mlp_acc_test = accuracy_score(y_test, pred_test)\n",
    "\n",
    "eval_dict = {\"GBT\": {\"Acc_train\": mlp_acc_train, \"Acc_test\": mlp_acc_test}}"
   ]
  },
  {
   "cell_type": "code",
   "execution_count": null,
   "id": "8374325d",
   "metadata": {},
   "outputs": [],
   "source": [
    "auc_test =DataFrame(GBT.predict_proba(X_test))[1]\n",
    "auc = roc_auc_score(array(y_test),array(auc_test))"
   ]
  },
  {
   "cell_type": "code",
   "execution_count": null,
   "id": "21f274e7",
   "metadata": {},
   "outputs": [],
   "source": [
    "#Rechecking AUC \n",
    "auc"
   ]
  },
  {
   "cell_type": "code",
   "execution_count": null,
   "id": "30f5066e",
   "metadata": {},
   "outputs": [],
   "source": [
    "eval_dict"
   ]
  },
  {
   "cell_type": "code",
   "execution_count": null,
   "id": "719ce7a7",
   "metadata": {},
   "outputs": [],
   "source": [
    "test1 = test[top_fs_vars]\n",
    "probabilities = DataFrame(GBT.predict_proba(test1))[1]"
   ]
  },
  {
   "cell_type": "code",
   "execution_count": null,
   "id": "1df6fbb5",
   "metadata": {},
   "outputs": [],
   "source": [
    "boost_sub = pd.concat([test['cust_id'], probabilities], axis=1)\n",
    "boost_sub = boost_sub.set_axis(['cust_id', 'default.payment.next.month'], axis=1)"
   ]
  },
  {
   "cell_type": "code",
   "execution_count": null,
   "id": "73fcf1ac",
   "metadata": {},
   "outputs": [],
   "source": [
    "boost_sub.to_csv('Kaggle_Submission_GBM.csv', index = False)"
   ]
  },
  {
   "cell_type": "markdown",
   "id": "291527dd",
   "metadata": {},
   "source": [
    "### References"
   ]
  },
  {
   "cell_type": "markdown",
   "id": "1d698532",
   "metadata": {},
   "source": [
    "https://scikit-learn.org/stable/auto_examples/model_selection/plot_learning_curve.html#sphx-glr-auto-examples-model-selection-plot-learning-curve-py\n",
    "\n",
    "https://scikit-learn.org/stable/modules/classes.html#module-sklearn.model_selection\n",
    "\n",
    "https://machinelearningmastery.com/discretization-transforms-for-machine-learning/\n",
    "\n",
    "https://scikit-learn.org/stable/modules/cross_validation.html\n",
    "\n",
    "https://datascientest.com/feature-engineering\n",
    "\n",
    "https://machinelearningmastery.com/nested-cross-validation-for-machine-learning-with-python/\n",
    "\n",
    "https://www.geeksforgeeks.org/plot-a-pie-chart-in-python-using-matplotlib/\n"
   ]
  }
 ],
 "metadata": {
  "kernelspec": {
   "display_name": "Python 3",
   "language": "python",
   "name": "python3"
  },
  "language_info": {
   "codemirror_mode": {
    "name": "ipython",
    "version": 3
   },
   "file_extension": ".py",
   "mimetype": "text/x-python",
   "name": "python",
   "nbconvert_exporter": "python",
   "pygments_lexer": "ipython3",
   "version": "3.8.8"
  }
 },
 "nbformat": 4,
 "nbformat_minor": 5
}
